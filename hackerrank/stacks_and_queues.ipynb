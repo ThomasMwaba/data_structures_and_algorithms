{
 "cells": [
  {
   "cell_type": "markdown",
   "metadata": {},
   "source": [
    "### Equal Stacks\n",
    "\n",
    "You have three stacks of cylinders where each cylinder has the same diameter, but they may vary in height. You can change the height of a stack by removing and discarding its topmost cylinder any number of times.\n",
    "\n",
    "Find the maximum possible height of the stacks such that all of the stacks are exactly the same height. This means you must remove zero or more cylinders from the top of zero or more of the three stacks until they are all the same height, then return the height.\n",
    "\n",
    "Example\n",
    "\n",
    "**h1** = [1,2,1,1]\n",
    "\n",
    "**h2** = [1,1,2]\n",
    "\n",
    "**h3** = [1,1]\n",
    "\n",
    "\n",
    "\n",
    "There are 4, 3 and 2  cylinders in the three stacks, with their heights in the three arrays. Remove the top 2 cylinders from  **h1** (heights = [1, 2]) and from **h2** (heights = [1, 1]) so that the three stacks all are 2 units tall. Return  as the answer.\n",
    "\n",
    "**Note:** An empty stack is still a stack.\n",
    "\n"
   ]
  },
  {
   "cell_type": "code",
   "execution_count": null,
   "metadata": {},
   "outputs": [],
   "source": [
    "def equalStacks(h1, h2, h3):\n",
    "    # Write your code here\n",
    "    h1 = h1[::-1]\n",
    "    h2 = h2[::-1]\n",
    "    h3 = h3[::-1]\n",
    "    \n",
    "    sum1 = sum(h1)\n",
    "    sum2 = sum(h2)\n",
    "    sum3 = sum(h3)\n",
    "    while True:\n",
    "        minheight = min(sum1,sum2,sum3)\n",
    "        if minheight == 0:\n",
    "            return 0\n",
    "        if minheight < sum1:\n",
    "            sum1 -= h1.pop()\n",
    "            \n",
    "        if minheight < sum2:\n",
    "            sum2 -= h2.pop()\n",
    "                \n",
    "        if minheight < sum3:\n",
    "            sum3 -= h3.pop()\n",
    "        if sum1 == sum2 == sum3:\n",
    "            return sum1"
   ]
  },
  {
   "cell_type": "code",
   "execution_count": null,
   "metadata": {},
   "outputs": [],
   "source": []
  },
  {
   "cell_type": "code",
   "execution_count": 11,
   "metadata": {},
   "outputs": [],
   "source": [
    "# def equalstack(h1,h2,h3):\n",
    "#     while sum(h1) != sum(h2) != sum(h3):\n",
    "#         if sum(h1) > sum(h2) and sum(h1) > sum(h3):\n",
    "#             h1.pop()\n",
    "#         elif sum(h2) > sum(h1) and sum(h2) > sum(h3):\n",
    "#             h2.pop()\n",
    "#         else:\n",
    "#             h3.pop()\n",
    "#     return sum(h1)"
   ]
  },
  {
   "cell_type": "code",
   "execution_count": null,
   "metadata": {},
   "outputs": [],
   "source": []
  },
  {
   "cell_type": "markdown",
   "metadata": {},
   "source": [
    "### Balanced Brackets\n",
    "\n",
    "\n",
    "A bracket is considered to be any one of the following characters: (, ), {, }, [, or ].\n",
    "\n",
    "Two brackets are considered to be a matched pair if the an opening bracket (i.e., (, [, or {) occurs to the left of a closing bracket (i.e., ), ], or }) of the exact same type. There are three types of matched pairs of brackets: [], {}, and ().\n",
    "\n",
    "A matching pair of brackets is not balanced if the set of brackets it encloses are not matched. For example, {[(])} is not balanced because the contents in between { and } are not balanced. The pair of square brackets encloses a single, unbalanced opening bracket, (, and the pair of parentheses encloses a single, unbalanced closing square bracket, ].\n",
    "\n",
    "By this logic, we say a sequence of brackets is balanced if the following conditions are met:\n",
    "\n",
    "It contains no unmatched brackets.\n",
    "The subset of brackets enclosed within the confines of a matched pair of brackets is also a matched pair of brackets.\n",
    "Given  strings of brackets, determine whether each sequence of brackets is balanced. If a string is balanced, return YES. Otherwise, return NO."
   ]
  },
  {
   "cell_type": "code",
   "execution_count": null,
   "metadata": {},
   "outputs": [],
   "source": [
    "def isBalanced(s):\n",
    "    # Create an empty stack\n",
    "    stack = []\n",
    "    \n",
    "    # pairs of brackets\n",
    "    mappings = {\"(\":\")\",\"[\":\"]\",\"{\":\"}\"}\n",
    "    \n",
    "    # Look at each character in the string\n",
    "    for i in s:\n",
    "        # If the character is an opening bracket, put it on the stack\n",
    "        if i in ['(','{','[']:\n",
    "            stack.append(i)\n",
    "        else:\n",
    "            # If the box is not empty\n",
    "            if stack:\n",
    "                # Take the last bracket added to the box\n",
    "                top = stack.pop()\n",
    "                \n",
    "                # Check if it matches the current closing bracket\n",
    "                if mappings[top] != i:\n",
    "                    # If it doesn't match, return \"NO\" (not balanced)\n",
    "                    return 'NO'\n",
    "            else:\n",
    "                # If the box is empty but we have a closing bracket, return \"NO\"\n",
    "                return 'NO'\n",
    "    \n",
    "    # If the box is empty at the end, return \"YES\" (balanced)\n",
    "    # If the box still has brackets, return \"NO\"\n",
    "    return 'NO' if stack else 'YES'\n"
   ]
  }
 ],
 "metadata": {
  "kernelspec": {
   "display_name": "Python 3",
   "language": "python",
   "name": "python3"
  },
  "language_info": {
   "codemirror_mode": {
    "name": "ipython",
    "version": 3
   },
   "file_extension": ".py",
   "mimetype": "text/x-python",
   "name": "python",
   "nbconvert_exporter": "python",
   "pygments_lexer": "ipython3",
   "version": "3.11.1"
  }
 },
 "nbformat": 4,
 "nbformat_minor": 2
}
