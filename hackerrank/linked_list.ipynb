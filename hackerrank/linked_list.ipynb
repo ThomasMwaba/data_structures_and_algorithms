{
 "cells": [
  {
   "cell_type": "markdown",
   "metadata": {},
   "source": [
    "#### 1. Function Description\n",
    "\n",
    "Complete the printLinkedList function in the editor below.\n",
    "\n",
    "printLinkedList has the following parameter(s):\n",
    "\n",
    "SinglyLinkedListNode head: a reference to the head of the list\n",
    "Print\n",
    "\n",
    "For each node, print its  value on a new line (console.log in Javascript).\n",
    "Input Format\n",
    "\n",
    "The first line of input contains , the number of elements in the linked list.\n",
    "The next  lines contain one element each, the  values for each node."
   ]
  },
  {
   "cell_type": "code",
   "execution_count": 2,
   "metadata": {},
   "outputs": [],
   "source": [
    "# Complete the printLinkedList function below.\n",
    "\n",
    "#\n",
    "# For your reference:\n",
    "#\n",
    "# SinglyLinkedListNode:\n",
    "#     int data\n",
    "#     SinglyLinkedListNode next\n",
    "#\n",
    "#\n",
    "def printLinkedList(head):\n",
    "    temp=head\n",
    "    while temp:\n",
    "        print(temp.data)\n",
    "        temp = temp.next"
   ]
  },
  {
   "cell_type": "code",
   "execution_count": null,
   "metadata": {},
   "outputs": [],
   "source": []
  }
 ],
 "metadata": {
  "kernelspec": {
   "display_name": "Python 3",
   "language": "python",
   "name": "python3"
  },
  "language_info": {
   "codemirror_mode": {
    "name": "ipython",
    "version": 3
   },
   "file_extension": ".py",
   "mimetype": "text/x-python",
   "name": "python",
   "nbconvert_exporter": "python",
   "pygments_lexer": "ipython3",
   "version": "3.11.1"
  }
 },
 "nbformat": 4,
 "nbformat_minor": 2
}
