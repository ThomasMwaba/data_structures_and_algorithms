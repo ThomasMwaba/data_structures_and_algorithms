{
 "cells": [
  {
   "cell_type": "markdown",
   "metadata": {},
   "source": [
    "### Tree: Height of a Binary Tree\n",
    "\n",
    "[Hackerrank Tree: Height of a Binary Tree](https://www.hackerrank.com/challenges/tree-height-of-a-binary-tree/problem?isFullScreen=true)"
   ]
  },
  {
   "cell_type": "code",
   "execution_count": null,
   "metadata": {},
   "outputs": [],
   "source": [
    "def height(root):\n",
    "    if root is None:\n",
    "        return -1 \n",
    "    return max(height(root.left), height(root.right)) + 1"
   ]
  },
  {
   "cell_type": "code",
   "execution_count": null,
   "metadata": {},
   "outputs": [],
   "source": []
  },
  {
   "cell_type": "markdown",
   "metadata": {},
   "source": [
    "### Binary Search Tree : Insertion\n",
    "[Hackerrank Tree: Height of a Binary Tree](https://www.hackerrank.com/challenges/binary-search-tree-insertion/problem?isFullScreen=true)\n"
   ]
  },
  {
   "cell_type": "code",
   "execution_count": null,
   "metadata": {},
   "outputs": [],
   "source": [
    "\n",
    "def insert(self, val):\n",
    "    #Enter you code here.\n",
    "    new_node = Node(val)\n",
    "    if self.root is None:\n",
    "       self.root = new_node\n",
    "       return\n",
    "        \n",
    "    temp = self.root\n",
    "    while temp:\n",
    "        if val < temp.info:\n",
    "            if temp.left is None:\n",
    "                temp.left = new_node\n",
    "                return\n",
    "            temp = temp.left\n",
    "        else:\n",
    "            if temp.right is None:\n",
    "                temp.right = new_node\n",
    "                return\n",
    "            temp = temp.right"
   ]
  },
  {
   "cell_type": "markdown",
   "metadata": {},
   "source": []
  }
 ],
 "metadata": {
  "language_info": {
   "name": "python"
  }
 },
 "nbformat": 4,
 "nbformat_minor": 2
}
