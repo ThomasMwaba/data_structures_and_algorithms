{
 "cells": [
  {
   "cell_type": "markdown",
   "metadata": {},
   "source": [
    "### Tree: Height of a Binary Tree\n",
    "\n",
    "[Hackerrank Tree: Height of a Binary Tree](https://www.hackerrank.com/challenges/tree-height-of-a-binary-tree/problem?isFullScreen=true)"
   ]
  },
  {
   "cell_type": "code",
   "execution_count": null,
   "metadata": {},
   "outputs": [],
   "source": [
    "def height(root):\n",
    "    if root is None:\n",
    "        return -1 \n",
    "    return max(height(root.left), height(root.right)) + 1"
   ]
  },
  {
   "cell_type": "code",
   "execution_count": null,
   "metadata": {},
   "outputs": [],
   "source": []
  },
  {
   "cell_type": "markdown",
   "metadata": {},
   "source": [
    "### Binary Search Tree : Insertion\n",
    "[Hackerrank Tree: Binary Search Tree : Insertion](https://www.hackerrank.com/challenges/binary-search-tree-insertion/problem?isFullScreen=true)\n"
   ]
  },
  {
   "cell_type": "code",
   "execution_count": null,
   "metadata": {},
   "outputs": [],
   "source": [
    "\n",
    "def insert(self, val):\n",
    "    #Enter you code here.\n",
    "    new_node = Node(val)\n",
    "    if self.root is None:\n",
    "       self.root = new_node\n",
    "       return\n",
    "        \n",
    "    temp = self.root\n",
    "    while temp:\n",
    "        if val < temp.info:\n",
    "            if temp.left is None:\n",
    "                temp.left = new_node\n",
    "                return\n",
    "            temp = temp.left\n",
    "        else:\n",
    "            if temp.right is None:\n",
    "                temp.right = new_node\n",
    "                return\n",
    "            temp = temp.right"
   ]
  },
  {
   "cell_type": "markdown",
   "metadata": {},
   "source": []
  },
  {
   "cell_type": "markdown",
   "metadata": {},
   "source": [
    "### Binary Search Tree : Lowest Common Ancestor\n",
    "[Hackerrank Tree: Binary Search Tree : Lowest Common Ancestor](https://www.hackerrank.com/challenges/binary-search-tree-lowest-common-ancestor/problem?isFullScreen=true)"
   ]
  },
  {
   "cell_type": "code",
   "execution_count": 2,
   "metadata": {},
   "outputs": [],
   "source": [
    "def lca(root, v1, v2):\n",
    "    # Enter code here\n",
    "    while root:\n",
    "        if v1 < root.info and v2 < root.info:\n",
    "            root = root.left\n",
    "        elif v1 > root.info and v2 > root.info:\n",
    "            root = root.right\n",
    "        else:\n",
    "            break\n",
    "    return root"
   ]
  },
  {
   "cell_type": "code",
   "execution_count": null,
   "metadata": {},
   "outputs": [],
   "source": []
  },
  {
   "cell_type": "markdown",
   "metadata": {},
   "source": [
    "### Tree : Top View\n",
    "[Hackerrank Tree: Top View](https://www.hackerrank.com/challenges/tree-top-view/problem?isFullScreen=true)"
   ]
  },
  {
   "cell_type": "code",
   "execution_count": 3,
   "metadata": {},
   "outputs": [],
   "source": [
    "def topView(root):\n",
    "    d = {}\n",
    "    \n",
    "    def traverse(root, key, level):\n",
    "        if root:\n",
    "            if key not in d:\n",
    "                d[key] = [root, level]\n",
    "            elif d[key][1] > level:\n",
    "                d[key] = [root, level]\n",
    "            traverse(root.left,key -1,level+1)\n",
    "            traverse(root.right,key +1,level+1)\n",
    "    traverse(root, 0, 0)\n",
    " \n",
    "    for key in sorted(d):\n",
    "        print(d[key][0], end=\" \")\n",
    "                "
   ]
  },
  {
   "cell_type": "code",
   "execution_count": null,
   "metadata": {},
   "outputs": [],
   "source": []
  },
  {
   "cell_type": "markdown",
   "metadata": {},
   "source": [
    "### Tree : Is binary search tree?\n",
    "[Hackerrank Tree: Is binary search tree?](https://www.hackerrank.com/challenges/is-binary-search-tree/problem?isFullScreen=true)"
   ]
  },
  {
   "cell_type": "code",
   "execution_count": null,
   "metadata": {},
   "outputs": [],
   "source": [
    "def check_binary_search_tree_(root):\n",
    "    \n",
    "    def check(root, min_value, max_value):\n",
    "        if root is None:\n",
    "            return True\n",
    "        if root.data < min_value or root.data > max_value:\n",
    "            return False\n",
    "        return check(root.left,min_value,root.data -1) and check(root.right, root.data + 1,max_value)\n",
    "    return check(root,0,10000)"
   ]
  }
 ],
 "metadata": {
  "kernelspec": {
   "display_name": "Python 3",
   "language": "python",
   "name": "python3"
  },
  "language_info": {
   "codemirror_mode": {
    "name": "ipython",
    "version": 3
   },
   "file_extension": ".py",
   "mimetype": "text/x-python",
   "name": "python",
   "nbconvert_exporter": "python",
   "pygments_lexer": "ipython3",
   "version": "3.11.1"
  }
 },
 "nbformat": 4,
 "nbformat_minor": 2
}
