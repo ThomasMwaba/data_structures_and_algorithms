{
 "cells": [
  {
   "cell_type": "markdown",
   "metadata": {},
   "source": [
    "### Recursive Binary Search Tree"
   ]
  },
  {
   "cell_type": "code",
   "execution_count": 73,
   "metadata": {},
   "outputs": [],
   "source": [
    "class Node:\n",
    "    def __init__(self,value):\n",
    "        self.value = value \n",
    "        self.right = None\n",
    "        self.left = None\n",
    "        \n",
    "class BinarySearchTree:\n",
    "    def __init__(self):\n",
    "        self.root = None \n",
    "        \n",
    "    def insert(self, value):\n",
    "        new_node = Node(value)\n",
    "        if self.root is None:\n",
    "            self.root = new_node\n",
    "            return True \n",
    "        \n",
    "        temp = self.root \n",
    "        while (True):\n",
    "            if new_node.value == temp.value: # check if there value already exists\n",
    "                return False\n",
    "            if new_node.value < temp.value:\n",
    "                # if there is no node on the left of temp (root node)\n",
    "                if temp.left is None:\n",
    "                    temp.left = new_node\n",
    "                    return True\n",
    "                # otherwise assign it as the new temp\n",
    "                temp = temp.left\n",
    "            else:\n",
    "                # if there is no node on the right of temp (root node)\n",
    "                if temp.right is None:\n",
    "                    temp.right = new_node\n",
    "                    return True\n",
    "                 # otherwise assign it as the new temp\n",
    "                temp = temp.right\n",
    "                \n",
    "    def contains(self, value):\n",
    "        temp = self.root \n",
    "        \n",
    "        while temp is not None:\n",
    "            if value < temp.value:\n",
    "                temp = temp.left \n",
    "            elif value > temp.value:\n",
    "                temp = temp.right \n",
    "            else:\n",
    "                return True \n",
    "        return False\n",
    "    \n",
    "    def __r__contains(self, current_node, value):\n",
    "        if current_node is None:\n",
    "            return False \n",
    "        if value == current_node.value:\n",
    "            return True \n",
    "        if value < current_node.value:\n",
    "            return self.__r__contains(current_node.left,value)\n",
    "        if value > current_node.value:\n",
    "            return self.__r__contains(current_node.right,value)\n",
    "        \n",
    "    def r_contains(self, value):\n",
    "        return self.__r__contains(self.root, value)\n",
    "    \n",
    "    \n",
    "    def __r_insert(self, current_node, value):\n",
    "        if current_node is None:\n",
    "            return Node(value)\n",
    "        if value < current_node.value:\n",
    "            current_node.left = self.__r_insert(current_node.left,value)\n",
    "        if value > current_node.value:\n",
    "            current_node.right = self.__r_insert(current_node.right,value)\n",
    "            \n",
    "        return current_node \n",
    "    \n",
    "    def r_insert(self,value):\n",
    "        if self.root is None:\n",
    "            self.root = Node(value)\n",
    "        self.__r_insert(self.root,value)\n",
    "        \n",
    "    def min_value(self,current_node):\n",
    "        while (current_node.left is not None):\n",
    "            current_node = current_node.left \n",
    "        return current_node.value\n",
    "        \n",
    "    def __delete_node(self, current_node,value):\n",
    "        if current_node is None:\n",
    "            return None \n",
    "        if value < current_node.value:\n",
    "            current_node.left = self.__delete_node(current_node.left, value)\n",
    "        elif value > current_node.value:\n",
    "            current_node.right = self.__delete_node(current_node.right, value)\n",
    "        else:\n",
    "            if current_node.left is None and current_node.right is None:\n",
    "                return None\n",
    "            elif current_node.left is None:\n",
    "                current_node = current_node.right\n",
    "                \n",
    "            elif current_node.right is None:\n",
    "                current_node = current_node.left\n",
    "            else:\n",
    "                sub_tree_min = self.min_value(current_node.right)\n",
    "                current_node.value = sub_tree_min \n",
    "                current_node.right = self.__delete_node(current_node.right, sub_tree_min)\n",
    "            return current_node \n",
    "    \n",
    "    def delete_node(self, value):\n",
    "        self.root = self.__delete_node(self.root, value)\n",
    "            "
   ]
  },
  {
   "cell_type": "code",
   "execution_count": 74,
   "metadata": {},
   "outputs": [],
   "source": [
    "my_tree = BinarySearchTree()\n",
    "\n",
    "my_tree.r_insert(2)\n",
    "my_tree.r_insert(1)\n",
    "my_tree.r_insert(3)\n"
   ]
  },
  {
   "cell_type": "code",
   "execution_count": 75,
   "metadata": {},
   "outputs": [
    {
     "data": {
      "text/plain": [
       "'Root: 2'"
      ]
     },
     "execution_count": 75,
     "metadata": {},
     "output_type": "execute_result"
    }
   ],
   "source": [
    "f'Root: {my_tree.root.value}'"
   ]
  },
  {
   "cell_type": "code",
   "execution_count": 76,
   "metadata": {},
   "outputs": [
    {
     "data": {
      "text/plain": [
       "'Root -> Left: 1'"
      ]
     },
     "execution_count": 76,
     "metadata": {},
     "output_type": "execute_result"
    }
   ],
   "source": [
    "f'Root -> Left: {my_tree.root.left.value}'"
   ]
  },
  {
   "cell_type": "code",
   "execution_count": 77,
   "metadata": {},
   "outputs": [
    {
     "data": {
      "text/plain": [
       "'Root -> Right: 3'"
      ]
     },
     "execution_count": 77,
     "metadata": {},
     "output_type": "execute_result"
    }
   ],
   "source": [
    "f'Root -> Right: {my_tree.root.right.value}'"
   ]
  },
  {
   "cell_type": "code",
   "execution_count": 78,
   "metadata": {},
   "outputs": [
    {
     "name": "stdout",
     "output_type": "stream",
     "text": [
      "BST Contains 21: \n",
      " True\n"
     ]
    }
   ],
   "source": [
    "print('BST Contains 21:','\\n',my_tree.r_contains(3))"
   ]
  },
  {
   "cell_type": "code",
   "execution_count": 79,
   "metadata": {},
   "outputs": [
    {
     "name": "stdout",
     "output_type": "stream",
     "text": [
      "BST Contains 17: \n",
      " False\n"
     ]
    }
   ],
   "source": [
    "print('BST Contains 17:','\\n',my_tree.r_contains(4))"
   ]
  },
  {
   "cell_type": "code",
   "execution_count": 80,
   "metadata": {},
   "outputs": [],
   "source": [
    "my_tree.delete_node(2)"
   ]
  },
  {
   "cell_type": "code",
   "execution_count": 82,
   "metadata": {},
   "outputs": [
    {
     "name": "stdout",
     "output_type": "stream",
     "text": [
      "root 3\n",
      "root.left = 1\n",
      "root.right = None\n"
     ]
    }
   ],
   "source": [
    "print(\"root\", my_tree.root.value)\n",
    "print(\"root.left =\", my_tree.root.left.value)\n",
    "print(\"root.right =\", my_tree.root.right)"
   ]
  },
  {
   "cell_type": "code",
   "execution_count": null,
   "metadata": {},
   "outputs": [],
   "source": []
  },
  {
   "cell_type": "code",
   "execution_count": null,
   "metadata": {},
   "outputs": [],
   "source": []
  }
 ],
 "metadata": {
  "kernelspec": {
   "display_name": "Python 3",
   "language": "python",
   "name": "python3"
  },
  "language_info": {
   "codemirror_mode": {
    "name": "ipython",
    "version": 3
   },
   "file_extension": ".py",
   "mimetype": "text/x-python",
   "name": "python",
   "nbconvert_exporter": "python",
   "pygments_lexer": "ipython3",
   "version": "3.11.1"
  }
 },
 "nbformat": 4,
 "nbformat_minor": 2
}
