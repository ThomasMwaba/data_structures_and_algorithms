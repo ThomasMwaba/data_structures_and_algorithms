{
 "cells": [
  {
   "cell_type": "markdown",
   "metadata": {},
   "source": [
    "### BST: Convert Sorted List to Balanced BST ( ** Interview Question)"
   ]
  },
  {
   "cell_type": "code",
   "execution_count": null,
   "metadata": {},
   "outputs": [],
   "source": [
    "class Node:\n",
    "    def __init__(self, value):\n",
    "        self.value = value\n",
    "        self.left = None\n",
    "        self.right = None\n",
    "\n",
    "class BinarySearchTree:\n",
    "    def __init__(self):\n",
    "        self.root = None\n",
    "    \n",
    "    # The 'is_balanced' and 'inorder_traversal' methods will \n",
    "    # be used to test your code\n",
    "    def is_balanced(self, node=None):\n",
    "        def check_balance(node):\n",
    "            if node is None:\n",
    "                return True, -1\n",
    "            left_balanced, left_height = check_balance(node.left)\n",
    "            if not left_balanced:\n",
    "                return False, 0\n",
    "            right_balanced, right_height = check_balance(node.right)\n",
    "            if not right_balanced:\n",
    "                return False, 0\n",
    "            balanced = abs(left_height - right_height) <= 1\n",
    "            height = 1 + max(left_height, right_height)\n",
    "            return balanced, height\n",
    "\n",
    "        balanced, _ = check_balance(self.root if node is None else node)\n",
    "        return balanced\n",
    "        \n",
    "    def inorder_traversal(self, node=None):\n",
    "        if node is None:\n",
    "            node = self.root\n",
    "        result = []\n",
    "        self._inorder_helper(node, result)\n",
    "        return result\n",
    "    \n",
    "    def _inorder_helper(self, node, result):\n",
    "        if node:\n",
    "            self._inorder_helper(node.left, result)\n",
    "            result.append(node.value)\n",
    "            self._inorder_helper(node.right, result)\n",
    "                \n",
    "                \n",
    "    def sorted_list_to_bst(self, nums):\n",
    "        self.root = self.__sorted_list_to_bst(nums, 0, len(nums) - 1)\n",
    "\n",
    "    def __sorted_list_to_bst(self, nums, left, right):\n",
    "        # Base condition: if left index is greater than right index,\n",
    "        # it means we have considered all elements in this segment.\n",
    "        # So, return None because there's no more node to create.\n",
    "        if left > right:\n",
    "            return None\n",
    "        \n",
    "        # Find the middle index of the current segment of the list.\n",
    "        # This step is crucial for creating a balanced BST because\n",
    "        # choosing the middle element as the root node ensures that\n",
    "        # the number of nodes in the left and right subtrees are\n",
    "        # as equal as possible.\n",
    "        mid = (left + right) // 2\n",
    "    \n",
    "        # Create a new Node instance using the value at the middle index.\n",
    "        # This node becomes the root of the BST (or subtree in recursive calls)\n",
    "        # for the current segment of the list. The choice of the middle element\n",
    "        # as the node's value is what allows the BST to be balanced.\n",
    "        current = Node(nums[mid])\n",
    "    \n",
    "        # Recursively build the left subtree. To do this, the function calls\n",
    "        # itself with the current segment adjusted to the left half, excluding\n",
    "        # the middle element. This constructs the left part of the tree, ensuring\n",
    "        # that elements lesser than the root are placed in the left subtree.\n",
    "        current.left = self.__sorted_list_to_bst(nums, left, mid - 1)\n",
    "        \n",
    "        # Similarly, recursively build the right subtree by adjusting the\n",
    "        # segment to the right half of the current list, beyond the middle\n",
    "        # element. This ensures that elements greater than the root are\n",
    "        # correctly placed in the right subtree.\n",
    "        current.right = self.__sorted_list_to_bst(nums, mid + 1, right)\n",
    "        # After constructing both left and right subtrees, return the\n",
    "        # current node. This node is now the root of a balanced subtree\n",
    "        # with its left and right children properly assigned.\n",
    "        # In the context of recursive calls, this step effectively\n",
    "        # builds up the tree from bottom to top, ensuring that each\n",
    "        # recursive call returns a subtree that is correctly linked\n",
    "        # to its parent node as either a left or right child.\n",
    "        return current"
   ]
  },
  {
   "cell_type": "code",
   "execution_count": null,
   "metadata": {},
   "outputs": [],
   "source": []
  },
  {
   "cell_type": "markdown",
   "metadata": {},
   "source": [
    "### BST: Invert Binary Tree ( ** Interview Question)\n",
    "\n",
    "**Objective:** Write a method to invert (or mirror) a binary tree. This means that for every node in the binary tree, you will swap its left and right children."
   ]
  },
  {
   "cell_type": "code",
   "execution_count": null,
   "metadata": {},
   "outputs": [],
   "source": [
    "class Node:\n",
    "    def __init__(self, value):\n",
    "        self.value = value\n",
    "        self.left = None\n",
    "        self.right = None\n",
    "        \n",
    "class BinarySearchTree:\n",
    "    def __init__(self):\n",
    "        self.root = None\n",
    "                  \n",
    "    def __r_insert(self, current_node, value):\n",
    "        if current_node == None: \n",
    "            return Node(value)   \n",
    "        if value < current_node.value:\n",
    "            current_node.left = self.__r_insert(current_node.left, value)\n",
    "        elif value > current_node.value:  # Changed to elif to avoid comparing twice if equal\n",
    "            current_node.right = self.__r_insert(current_node.right, value) \n",
    "        return current_node    \n",
    "\n",
    "    def r_insert(self, value):\n",
    "        if self.root == None: \n",
    "            self.root = Node(value)\n",
    "        else:\n",
    "            self.__r_insert(self.root, value)  \n",
    "\n",
    "    def invert(self):\n",
    "        self.root = self.__invert_tree(self.root)\n",
    "        \n",
    "        \n",
    "    def __invert_tree(self,current_node):\n",
    "        \n",
    "        if current_node is None:\n",
    "            return None \n",
    "            \n",
    "        temp = current_node.left \n",
    "        \n",
    "        current_node.left = self.__invert_tree(current_node.right)\n",
    "        current_node.right = self.__invert_tree(temp)\n",
    "        \n",
    "        return current_node"
   ]
  },
  {
   "cell_type": "code",
   "execution_count": 3,
   "metadata": {},
   "outputs": [
    {
     "data": {
      "text/plain": [
       "4"
      ]
     },
     "execution_count": 3,
     "metadata": {},
     "output_type": "execute_result"
    }
   ],
   "source": [
    "9 // 2"
   ]
  },
  {
   "cell_type": "code",
   "execution_count": null,
   "metadata": {},
   "outputs": [],
   "source": []
  }
 ],
 "metadata": {
  "kernelspec": {
   "display_name": "Python 3",
   "language": "python",
   "name": "python3"
  },
  "language_info": {
   "codemirror_mode": {
    "name": "ipython",
    "version": 3
   },
   "file_extension": ".py",
   "mimetype": "text/x-python",
   "name": "python",
   "nbconvert_exporter": "python",
   "pygments_lexer": "ipython3",
   "version": "3.11.1"
  }
 },
 "nbformat": 4,
 "nbformat_minor": 2
}
