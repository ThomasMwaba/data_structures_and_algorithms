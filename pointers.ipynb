{
 "cells": [
  {
   "cell_type": "code",
   "execution_count": 2,
   "metadata": {},
   "outputs": [
    {
     "name": "stdout",
     "output_type": "stream",
     "text": [
      "number1 22\n",
      "number2 22\n"
     ]
    }
   ],
   "source": [
    "number1 = 22\n",
    "\n",
    "number2 = number1\n",
    "\n",
    "print(\"number1\",number1)\n",
    "print(\"number2\",number2)"
   ]
  },
  {
   "cell_type": "code",
   "execution_count": 5,
   "metadata": {},
   "outputs": [
    {
     "name": "stdout",
     "output_type": "stream",
     "text": [
      "number1 points to: 140709826717128\n",
      "number2 points to:  140709826717128\n"
     ]
    }
   ],
   "source": [
    "print(\"number1 points to:\",id(number1))\n",
    "print(\"number2 points to: \",id(number2))"
   ]
  },
  {
   "cell_type": "code",
   "execution_count": 7,
   "metadata": {},
   "outputs": [
    {
     "name": "stdout",
     "output_type": "stream",
     "text": [
      "number1 22\n",
      "number2 24\n"
     ]
    }
   ],
   "source": [
    "number2 = 24\n",
    "\n",
    "print(\"number1\",number1)\n",
    "print(\"number2\",number2)"
   ]
  },
  {
   "cell_type": "markdown",
   "metadata": {},
   "source": [
    "##### After updating number2 to 22"
   ]
  },
  {
   "cell_type": "code",
   "execution_count": 8,
   "metadata": {},
   "outputs": [
    {
     "name": "stdout",
     "output_type": "stream",
     "text": [
      "number1 points to: 140709826717128\n",
      "number2 points to:  140709826717192\n"
     ]
    }
   ],
   "source": [
    "print(\"number1 points to:\",id(number1))\n",
    "print(\"number2 points to: \",id(number2))"
   ]
  },
  {
   "cell_type": "code",
   "execution_count": null,
   "metadata": {},
   "outputs": [],
   "source": []
  },
  {
   "cell_type": "code",
   "execution_count": 9,
   "metadata": {},
   "outputs": [],
   "source": [
    "dict1 = {'value':22}\n",
    "\n",
    "dict2 = dict1"
   ]
  },
  {
   "cell_type": "code",
   "execution_count": 10,
   "metadata": {},
   "outputs": [
    {
     "name": "stdout",
     "output_type": "stream",
     "text": [
      "dict1 = {'value': 22}\n",
      "dict2 = {'value': 22}\n"
     ]
    }
   ],
   "source": [
    "print(\"dict1 =\",dict1)\n",
    "print(\"dict2 =\",dict2)"
   ]
  },
  {
   "cell_type": "code",
   "execution_count": 11,
   "metadata": {},
   "outputs": [
    {
     "name": "stdout",
     "output_type": "stream",
     "text": [
      "dict1 points to: 2005460916736\n",
      "dict2 points to: 2005460916736\n"
     ]
    }
   ],
   "source": [
    "print(\"dict1 points to:\",id(dict1))\n",
    "print(\"dict2 points to:\",id(dict2))"
   ]
  },
  {
   "cell_type": "code",
   "execution_count": 12,
   "metadata": {},
   "outputs": [],
   "source": [
    "dict2['value'] = 24"
   ]
  },
  {
   "cell_type": "markdown",
   "metadata": {},
   "source": [
    "##### After updating dict2 to 24"
   ]
  },
  {
   "cell_type": "code",
   "execution_count": 13,
   "metadata": {},
   "outputs": [
    {
     "name": "stdout",
     "output_type": "stream",
     "text": [
      "dict1 = {'value': 24}\n",
      "dict2 = {'value': 24}\n"
     ]
    }
   ],
   "source": [
    "print(\"dict1 =\",dict1)\n",
    "print(\"dict2 =\",dict2)"
   ]
  },
  {
   "cell_type": "code",
   "execution_count": 14,
   "metadata": {},
   "outputs": [
    {
     "name": "stdout",
     "output_type": "stream",
     "text": [
      "dict1 points to: 2005460916736\n",
      "dict2 points to: 2005460916736\n"
     ]
    }
   ],
   "source": [
    "print(\"dict1 points to:\",id(dict1))\n",
    "print(\"dict2 points to:\",id(dict2))"
   ]
  },
  {
   "cell_type": "code",
   "execution_count": null,
   "metadata": {},
   "outputs": [],
   "source": []
  }
 ],
 "metadata": {
  "kernelspec": {
   "display_name": "Python 3",
   "language": "python",
   "name": "python3"
  },
  "language_info": {
   "codemirror_mode": {
    "name": "ipython",
    "version": 3
   },
   "file_extension": ".py",
   "mimetype": "text/x-python",
   "name": "python",
   "nbconvert_exporter": "python",
   "pygments_lexer": "ipython3",
   "version": "3.11.1"
  }
 },
 "nbformat": 4,
 "nbformat_minor": 2
}
