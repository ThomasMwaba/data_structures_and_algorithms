{
 "cells": [
  {
   "cell_type": "code",
   "execution_count": 9,
   "id": "58f71401-3dc2-4a25-98a5-327a8703b565",
   "metadata": {},
   "outputs": [],
   "source": [
    "def check_paren(s):\n",
    "    # Define a dictionary to store mappings of opening and closing parentheses\n",
    "    mappings = {\")\": \"(\", \"]\": \"[\", \"}\": \"{\"}\n",
    "    \n",
    "    # Initialize an empty stack to keep track of opening parentheses\n",
    "    stack = []\n",
    "    \n",
    "    # Iterate over each character in the input string\n",
    "    for paren in s:\n",
    "        \n",
    "        # If the character is a closing parenthesis\n",
    "        if paren in mappings:\n",
    "            \n",
    "            # Check if the stack is not empty and the top of the stack is the matching opening parenthesis\n",
    "            if stack and stack[-1] == mappings[paren]:\n",
    "                \n",
    "                # Remove the opening parenthesis from the stack (since it's matched)\n",
    "                stack.pop()\n",
    "            else:\n",
    "                # If not matched, the parentheses are not balanced\n",
    "                return False\n",
    "                \n",
    "        else:\n",
    "            # If the character is an opening parenthesis, add it to the stack\n",
    "            stack.append(paren)\n",
    "    \n",
    "    # If the stack is empty, all parentheses were matched and balanced\n",
    "    return True if not stack else False"
   ]
  },
  {
   "cell_type": "code",
   "execution_count": 10,
   "id": "d581c36a-4c11-47c6-938a-859436a5607c",
   "metadata": {},
   "outputs": [
    {
     "data": {
      "text/plain": [
       "True"
      ]
     },
     "execution_count": 10,
     "metadata": {},
     "output_type": "execute_result"
    }
   ],
   "source": [
    "check_paren('()')"
   ]
  },
  {
   "cell_type": "code",
   "execution_count": 11,
   "id": "7a16186c-e208-4be7-bf2f-85279891c6ae",
   "metadata": {},
   "outputs": [
    {
     "data": {
      "text/plain": [
       "False"
      ]
     },
     "execution_count": 11,
     "metadata": {},
     "output_type": "execute_result"
    }
   ],
   "source": [
    "check_paren('(}')"
   ]
  },
  {
   "cell_type": "code",
   "execution_count": null,
   "id": "c7374234-7aa8-4c95-b3ea-70ca7b744f07",
   "metadata": {},
   "outputs": [],
   "source": [
    "check_paren('()(')"
   ]
  },
  {
   "cell_type": "code",
   "execution_count": 4,
   "id": "d0c711cc",
   "metadata": {},
   "outputs": [
    {
     "name": "stdout",
     "output_type": "stream",
     "text": [
      "(\n",
      "{\n",
      "[\n"
     ]
    }
   ],
   "source": [
    "mappings = {')':'(','}':'{',']':'['}\n",
    "\n",
    "for c in mappings:\n",
    "    print(mappings[c])"
   ]
  },
  {
   "cell_type": "code",
   "execution_count": 5,
   "id": "7a6a9f5f",
   "metadata": {},
   "outputs": [
    {
     "name": "stdout",
     "output_type": "stream",
     "text": [
      ")\n",
      "}\n",
      "]\n"
     ]
    }
   ],
   "source": [
    "for c in mappings:\n",
    "    print(c)"
   ]
  },
  {
   "cell_type": "code",
   "execution_count": null,
   "id": "b9baa79d",
   "metadata": {},
   "outputs": [],
   "source": []
  }
 ],
 "metadata": {
  "kernelspec": {
   "display_name": "Python 3 (ipykernel)",
   "language": "python",
   "name": "python3"
  },
  "language_info": {
   "codemirror_mode": {
    "name": "ipython",
    "version": 3
   },
   "file_extension": ".py",
   "mimetype": "text/x-python",
   "name": "python",
   "nbconvert_exporter": "python",
   "pygments_lexer": "ipython3",
   "version": "3.11.1"
  }
 },
 "nbformat": 4,
 "nbformat_minor": 5
}
