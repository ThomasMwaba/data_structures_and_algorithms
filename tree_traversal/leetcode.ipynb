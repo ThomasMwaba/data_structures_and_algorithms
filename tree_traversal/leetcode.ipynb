{
 "cells": [
  {
   "cell_type": "markdown",
   "metadata": {},
   "source": [
    "#### BST: Validate BST ( ** Interview Question)\n",
    "\n",
    "You are tasked with writing a method called **is_valid_bst** in the **BinarySearchTree** class that checks whether a binary search tree is a valid binary search tree.\n",
    "\n",
    "Your method should use the **dfs_in_order** method to get the node values of the binary search tree in ascending order, and then check whether each node value is greater than the previous node value.\n",
    "\n",
    "If the node values are not sorted in ascending order, the method should return **False**, indicating that the binary search tree is not valid.\n",
    "\n",
    "If all node values are sorted in ascending order, the method should return **True**, indicating that the binary search tree is a valid binary search tree."
   ]
  },
  {
   "cell_type": "code",
   "execution_count": null,
   "metadata": {},
   "outputs": [],
   "source": [
    "class Node:\n",
    "    def __init__(self, value):\n",
    "        self.value = value\n",
    "        self.left = None\n",
    "        self.right = None\n",
    "        \n",
    "\n",
    "class BinarySearchTree:\n",
    "    def __init__(self):\n",
    "        self.root = None\n",
    "\n",
    "    def insert(self, value):\n",
    "        new_node = Node(value)\n",
    "        if self.root is None:\n",
    "            self.root = new_node\n",
    "            return True\n",
    "        temp = self.root\n",
    "        while (True):\n",
    "            if new_node.value == temp.value:\n",
    "                return False\n",
    "            if new_node.value < temp.value:\n",
    "                if temp.left is None:\n",
    "                    temp.left = new_node\n",
    "                    return True\n",
    "                temp = temp.left\n",
    "            else: \n",
    "                if temp.right is None:\n",
    "                    temp.right = new_node\n",
    "                    return True\n",
    "                temp = temp.right\n",
    "\n",
    "    def dfs_in_order(self):\n",
    "        results = []\n",
    "        def traverse(current_node):\n",
    "            if current_node.left is not None:\n",
    "                traverse(current_node.left)\n",
    "            results.append(current_node.value) \n",
    "            if current_node.right is not None:\n",
    "                traverse(current_node.right)          \n",
    "        traverse(self.root)\n",
    "        return results\n",
    "\n",
    "    def is_valid_bst(self):\n",
    "    # Get node values of the binary search tree in ascending order\n",
    "        node_values = self.dfs_in_order()\n",
    "    # Iterate through the node values using a for loop\n",
    "        for i in range(1, len(node_values)):\n",
    "        # Check if each node value is greater than the previous node value\n",
    "            if node_values[i] <= node_values[i-1]:\n",
    "            # If node values are not sorted in ascending order, the binary\n",
    "            # search tree is not valid, so return False\n",
    "                return False\n",
    "    # If all node values are sorted in ascending order, the binary search tree\n",
    "    # is a valid binary search tree, so return True\n",
    "        return True"
   ]
  },
  {
   "cell_type": "code",
   "execution_count": null,
   "metadata": {},
   "outputs": [],
   "source": []
  },
  {
   "cell_type": "code",
   "execution_count": null,
   "metadata": {},
   "outputs": [],
   "source": []
  }
 ],
 "metadata": {
  "language_info": {
   "name": "python"
  }
 },
 "nbformat": 4,
 "nbformat_minor": 2
}
