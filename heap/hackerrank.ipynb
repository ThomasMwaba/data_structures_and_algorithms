{
 "cells": [
  {
   "cell_type": "markdown",
   "metadata": {},
   "source": [
    "### QHEAP1\n",
    "\n",
    "[hackerrank QHEAP1 Question](https://www.hackerrank.com/challenges/qheap1/problem?isFullScreen=true)"
   ]
  },
  {
   "cell_type": "code",
   "execution_count": null,
   "metadata": {},
   "outputs": [],
   "source": [
    "# Enter your code here. Read input from STDIN. Print output to STDOUT\n",
    "\n",
    "from heapq import heappush, heappop\n",
    "\n",
    "heap = []\n",
    "lookup = set()\n",
    "\n",
    "for i in range(int(input())):\n",
    "    t = list(map(int,input().split()))\n",
    "    \n",
    "    if t[0] == 1:\n",
    "        heappush(heap,t[1])\n",
    "        lookup.add(t[1])\n",
    "    elif t[0] == 2:\n",
    "        lookup.discard(t[1])\n",
    "    \n",
    "    else:\n",
    "        \n",
    "        while heap[0] not in lookup:\n",
    "            heappop(heap) \n",
    "        print(heap[0])"
   ]
  }
 ],
 "metadata": {
  "language_info": {
   "name": "python"
  }
 },
 "nbformat": 4,
 "nbformat_minor": 2
}
