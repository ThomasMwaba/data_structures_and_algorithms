{
 "cells": [
  {
   "cell_type": "markdown",
   "metadata": {},
   "source": [
    "### Graph\n",
    "\n",
    "is a non-linear data structure that consists of vertices (nodes) and edges."
   ]
  },
  {
   "cell_type": "markdown",
   "metadata": {
    "vscode": {
     "languageId": "plaintext"
    }
   },
   "source": [
    "#### Some terms\n",
    "\n",
    "- **vertex**: also called a node, is a point or an object in the Graph\n",
    "\n",
    "- **Edge**: is used to connect two vertices with each other.\n",
    "\n",
    "- **Weighted** Graph is a Graph where the edges have values.\n",
    "\n",
    "- **Connected Graph**: is when all the vertices are connected through edges somehow.\n"
   ]
  },
  {
   "cell_type": "markdown",
   "metadata": {
    "vscode": {
     "languageId": "plaintext"
    }
   },
   "source": [
    "### Graph Representations\n",
    "\n",
    "- Adjacency matrix: is a 2D array (matrix) used to represent a graph.Each cell in the matrix represents a connection between two vertices\n",
    "\n",
    "|   | A | B | C | D | E |\n",
    "|---|---|---|---|---|---|\n",
    "| A | 0 | 1 | 0 | 0 | 1 |\n",
    "| B | 1 | 0 | 1 | 0 | 0 |\n",
    "| C | 0 | 1 | 0 | 1 | 0 |\n",
    "| D | 0 | 0 | 1 | 0 | 1 |\n",
    "| E | 1 | 0 | 0 | 1 | 0 |\n",
    "\n",
    "\n",
    "\n",
    "- An adjacency list is a collection of lists or arrays used to represent a graph. Each vertex in the graph is associated with a list of its neighboring vertices.\n",
    "\n",
    "```\n",
    "graph = {\n",
    "    \"A\": [\"B\", \"E\"],\n",
    "    \"B\": [\"A\", \"C\"],\n",
    "    \"C\": [\"B\", \"D\"],\n",
    "    \"D\": [\"C\", \"E\"],\n",
    "    \"E\": [\"A\", \"D\"]\n",
    "}\n",
    "\n",
    "\n",
    "```\n",
    "\n",
    "The graph representations above mean:\n",
    "\n",
    "- There is a connection from A to B and E.\n",
    "- There is a connection from B to A and C.\n",
    "- There is a connection from C to B and D.\n",
    "- There is a connection from D to C and E.\n",
    "- There is a connection from E to A and D."
   ]
  },
  {
   "cell_type": "code",
   "execution_count": null,
   "metadata": {
    "vscode": {
     "languageId": "plaintext"
    }
   },
   "outputs": [],
   "source": []
  },
  {
   "cell_type": "markdown",
   "metadata": {
    "vscode": {
     "languageId": "plaintext"
    }
   },
   "source": [
    "### Big O\n",
    "\n",
    "V - Vertex\n",
    "\n",
    "E - Edge\n",
    "\n",
    "#### Space complexity \n",
    "\n",
    "- Adjacency Matrix is O(|V|^2)\n",
    "- Adjacency List is O(|V| + |E|)\n",
    "\n",
    "#### Adding a vertex \n",
    "\n",
    "- Adjacency Matrix is O(|V|^2)\n",
    "- Adjacency List  is O(1)\n",
    "\n",
    "#### Adding an edge\n",
    "\n",
    "- Adjacency Matrix is O(1)\n",
    "- Adjacency List  is O(1)\n",
    "\n",
    "\n",
    "#### Removing an edge\n",
    "\n",
    "- Adjacency Matrix is O(1)\n",
    "- Adjacency List  is O(|E|)\n",
    "\n",
    "#### Removing a Vertex \n",
    "\n",
    "- Adjacency Matrix is O(|V|^2)\n",
    "- Adjacency List is O(|V| + |E|)"
   ]
  },
  {
   "cell_type": "markdown",
   "metadata": {},
   "source": []
  },
  {
   "cell_type": "markdown",
   "metadata": {
    "vscode": {
     "languageId": "plaintext"
    }
   },
   "source": [
    "### Use Case\n",
    "\n",
    "- Social Networks: Each person is a vertex, and relationships (like friendships) are the edges. Algorithms can suggest potential friends.\n",
    "\n",
    "- Maps and Navigation: Locations, like a town or bus stops, are stored as vertices, and roads are stored as edges. Algorithms can find the shortest route between two locations when stored as a Graph.\n"
   ]
  },
  {
   "cell_type": "markdown",
   "metadata": {},
   "source": []
  }
 ],
 "metadata": {
  "language_info": {
   "name": "python"
  }
 },
 "nbformat": 4,
 "nbformat_minor": 2
}
