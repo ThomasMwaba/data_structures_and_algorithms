{
 "cells": [
  {
   "cell_type": "markdown",
   "metadata": {},
   "source": [
    "### HT: Item In Common ( ** Interview Question)\n",
    "\n",
    "Write a function **item_in_common(list1, list2**) that takes two lists as input and returns **True** if there is at least one common item between the two lists, **False** otherwise.\n",
    "\n",
    "Use a dictionary to solve the problem that creates an **O(n)** time complexity."
   ]
  },
  {
   "cell_type": "code",
   "execution_count": 2,
   "metadata": {},
   "outputs": [],
   "source": [
    "def item_in_common(list1, list2):\n",
    "    # create an empty dictionary to store list1's values\n",
    "    my_dict = {}\n",
    " \n",
    "    # iterate through list1 and add each value to the dictionary as a key\n",
    "    for i in list1:\n",
    "        my_dict[i] = True\n",
    " \n",
    "    # iterate through list2 and check if each value is a key in the dictionary\n",
    "    for j in list2:\n",
    "        # if a value in list2 is also in the dictionary, return True\n",
    "        if j in my_dict:\n",
    "            return True\n",
    " \n",
    "    # if no values in common are found, return False\n",
    "    return False"
   ]
  },
  {
   "cell_type": "code",
   "execution_count": 3,
   "metadata": {},
   "outputs": [
    {
     "data": {
      "text/plain": [
       "True"
      ]
     },
     "execution_count": 3,
     "metadata": {},
     "output_type": "execute_result"
    }
   ],
   "source": [
    "item_in_common(list1=[1,3,5],list2 = [2,4,5])"
   ]
  },
  {
   "cell_type": "code",
   "execution_count": null,
   "metadata": {},
   "outputs": [],
   "source": []
  }
 ],
 "metadata": {
  "kernelspec": {
   "display_name": "Python 3",
   "language": "python",
   "name": "python3"
  },
  "language_info": {
   "codemirror_mode": {
    "name": "ipython",
    "version": 3
   },
   "file_extension": ".py",
   "mimetype": "text/x-python",
   "name": "python",
   "nbconvert_exporter": "python",
   "pygments_lexer": "ipython3",
   "version": "3.11.1"
  }
 },
 "nbformat": 4,
 "nbformat_minor": 2
}
