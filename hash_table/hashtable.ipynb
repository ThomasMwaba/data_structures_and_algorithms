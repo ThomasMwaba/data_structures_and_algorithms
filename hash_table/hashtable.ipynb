{
 "cells": [
  {
   "cell_type": "markdown",
   "metadata": {},
   "source": [
    "### Hash Table\n",
    "\n",
    "A **hash table** is a data structure that uses a hash function to keep track of where data is put. Each piece of information to be stored has a name, which is called a key. For example, a key might be a person's name. Each name is matched up to one piece of data called a value, like the person's telephone number.\n",
    "\n",
    "The data is kept in another data structure called an array, which is like many boxes, or buckets, in a column to hold data. Each box has a number starting from 0 and counting up.\n",
    "\n",
    "[Hash Table wikipedia](https://simple.wikipedia.org/wiki/Hash_table)"
   ]
  },
  {
   "cell_type": "code",
   "execution_count": null,
   "metadata": {},
   "outputs": [],
   "source": []
  },
  {
   "cell_type": "code",
   "execution_count": 39,
   "metadata": {},
   "outputs": [
    {
     "data": {
      "text/plain": [
       "5"
      ]
     },
     "execution_count": 39,
     "metadata": {},
     "output_type": "execute_result"
    }
   ],
   "source": [
    "2651 % 7"
   ]
  },
  {
   "cell_type": "code",
   "execution_count": 17,
   "metadata": {},
   "outputs": [
    {
     "data": {
      "text/plain": [
       "115"
      ]
     },
     "execution_count": 17,
     "metadata": {},
     "output_type": "execute_result"
    }
   ],
   "source": [
    "ord('s') # This function is useful when you need to know the numeric representation of a character in the Unicode standard."
   ]
  },
  {
   "cell_type": "code",
   "execution_count": 8,
   "metadata": {},
   "outputs": [],
   "source": [
    "class HashTable:\n",
    "    def __init__(self,size=7):\n",
    "        self.data_map = [None] * size \n",
    "        \n",
    "    def __hash(self,key):\n",
    "        my_hash = 0\n",
    "        for letter in key:\n",
    "            my_hash = (my_hash + ord(letter) * 23) % len(self.data_map)\n",
    "        return my_hash\n",
    "    def print_table(self):\n",
    "        for i, val in enumerate(self.data_map):\n",
    "            print(i, \": \", val)\n",
    "            \n",
    "    def set_item(self, key,value):\n",
    "        index = self.__hash(key)\n",
    "        if self.data_map[index] == None:\n",
    "            self.data_map[index] = []\n",
    "        self.data_map[index].append([key,value])\n",
    "        "
   ]
  },
  {
   "cell_type": "code",
   "execution_count": 9,
   "metadata": {},
   "outputs": [],
   "source": [
    "my_hash_table = HashTable()"
   ]
  },
  {
   "cell_type": "code",
   "execution_count": 10,
   "metadata": {},
   "outputs": [
    {
     "name": "stdout",
     "output_type": "stream",
     "text": [
      "0 :  None\n",
      "1 :  None\n",
      "2 :  None\n",
      "3 :  None\n",
      "4 :  None\n",
      "5 :  None\n",
      "6 :  None\n"
     ]
    }
   ],
   "source": [
    "my_hash_table.print_table()"
   ]
  },
  {
   "cell_type": "code",
   "execution_count": 11,
   "metadata": {},
   "outputs": [],
   "source": [
    "my_hash_table.set_item('bolts',1400)\n",
    "my_hash_table.set_item('washers',50)\n",
    "my_hash_table.set_item('lumber',70)"
   ]
  },
  {
   "cell_type": "code",
   "execution_count": 12,
   "metadata": {},
   "outputs": [
    {
     "name": "stdout",
     "output_type": "stream",
     "text": [
      "0 :  None\n",
      "1 :  None\n",
      "2 :  None\n",
      "3 :  None\n",
      "4 :  [['bolts', 1400], ['washers', 50]]\n",
      "5 :  None\n",
      "6 :  [['lumber', 70]]\n"
     ]
    }
   ],
   "source": [
    "my_hash_table.print_table()"
   ]
  },
  {
   "cell_type": "code",
   "execution_count": null,
   "metadata": {},
   "outputs": [],
   "source": []
  }
 ],
 "metadata": {
  "kernelspec": {
   "display_name": "Python 3",
   "language": "python",
   "name": "python3"
  },
  "language_info": {
   "codemirror_mode": {
    "name": "ipython",
    "version": 3
   },
   "file_extension": ".py",
   "mimetype": "text/x-python",
   "name": "python",
   "nbconvert_exporter": "python",
   "pygments_lexer": "ipython3",
   "version": "3.11.1"
  }
 },
 "nbformat": 4,
 "nbformat_minor": 2
}
