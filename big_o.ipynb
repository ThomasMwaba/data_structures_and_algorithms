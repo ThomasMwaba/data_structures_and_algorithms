{
 "cells": [
  {
   "cell_type": "markdown",
   "metadata": {},
   "source": [
    "### Time complexity\n",
    "\n",
    "is how many times it takes to run a given algorithm depending on the length of the input"
   ]
  },
  {
   "cell_type": "markdown",
   "metadata": {},
   "source": []
  },
  {
   "cell_type": "markdown",
   "metadata": {
    "vscode": {
     "languageId": "plaintext"
    }
   },
   "source": [
    "### Space Complexity\n",
    "\n",
    "is the amount of memory used by a program when it is run."
   ]
  },
  {
   "cell_type": "markdown",
   "metadata": {},
   "source": []
  },
  {
   "cell_type": "markdown",
   "metadata": {
    "vscode": {
     "languageId": "plaintext"
    }
   },
   "source": [
    "##### Big O Basics "
   ]
  },
  {
   "cell_type": "markdown",
   "metadata": {},
   "source": [
    "`O(1)` : Constant Time\n",
    "\n",
    "> * It doesn't depend on the size of the data set.\n",
    "\n",
    "> * Example: Getting an array element by its index\n",
    "\n",
    "\n",
    "\n",
    "`O(log n)` : Logarithmic Time \n",
    "\n",
    "> * It divides the data in each step (divide and conquer)\n",
    "\n",
    "> * Example: Binary Search\n",
    "\n",
    "\n",
    "\n",
    "\n",
    "`O(n)` : Linear Time \n",
    "\n",
    "> * It is directly relative to the data set size\n",
    "\n",
    "> * Example: Looping through an array\n",
    "\n",
    "\n",
    "\n",
    "\n",
    "`O(n log n)` : Linearithmic Time \n",
    "\n",
    "> * Divides and sorts or searches data\n",
    "\n",
    "> * Example: Merge sort, quick sort\n",
    "\n",
    "\n",
    "\n",
    "`O(n^2)` : Polynomial Time\n",
    "\n",
    "> * Nested loops for each power of n.\n",
    "\n",
    "> * Example: Bubble sort \n",
    "\n",
    "\n",
    "\n",
    "\n",
    "\n",
    "\n",
    "\n",
    "\n",
    "\n",
    "\n",
    "\n",
    "\n",
    "\n"
   ]
  },
  {
   "cell_type": "markdown",
   "metadata": {},
   "source": [
    "##### Omega (Ω) - Best Case\n",
    "\n",
    "It tells you the fastest an algorithm can run in the best suitation \n",
    "\n",
    "\n",
    "##### Theta (θ) - Average Case\n",
    "\n",
    "It tells you what to generally expect in terms of time complexity\n",
    "\n",
    "\n",
    "##### Omega (0) - Best Case\n",
    "\n",
    "It tells you the fastest an algorithm can run in the best suitation \n",
    "\n"
   ]
  },
  {
   "cell_type": "markdown",
   "metadata": {},
   "source": []
  },
  {
   "cell_type": "markdown",
   "metadata": {
    "vscode": {
     "languageId": "plaintext"
    }
   },
   "source": [
    "##### Other Cases:"
   ]
  },
  {
   "cell_type": "markdown",
   "metadata": {
    "vscode": {
     "languageId": "plaintext"
    }
   },
   "source": [
    "###### Drop Non-Dominant Terms\n",
    "\n",
    ">* In `O(n^2 + n)` will just become `O(n^2)` in simple terms\n",
    "\n",
    "###### Drop Constant\n",
    "\n",
    ">* In `O(2n)` simplifies to `O(n)`"
   ]
  },
  {
   "cell_type": "markdown",
   "metadata": {},
   "source": []
  }
 ],
 "metadata": {
  "language_info": {
   "name": "python"
  }
 },
 "nbformat": 4,
 "nbformat_minor": 2
}
