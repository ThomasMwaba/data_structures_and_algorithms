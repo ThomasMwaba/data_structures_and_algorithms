{
 "cells": [
  {
   "cell_type": "markdown",
   "metadata": {},
   "source": [
    "### Bubble Sort of LL ( ** Interview Question)\n",
    "Assignment:\n",
    "\n",
    "Your task is to implement the **bubble_sort** method within the LinkedList class. The **bubble_sort**  method should sort the elements of the linked list in ascending order based on their values. The sorting should be done in-place, meaning you should not create a new linked list but rather modify the existing one."
   ]
  },
  {
   "cell_type": "code",
   "execution_count": null,
   "metadata": {},
   "outputs": [],
   "source": [
    "class Node:\n",
    "    def __init__(self, value):\n",
    "        self.value = value\n",
    "        self.next = None\n",
    "        \n",
    "\n",
    "class LinkedList:\n",
    "    def __init__(self, value):\n",
    "        new_node = Node(value)\n",
    "        self.head = new_node\n",
    "        self.tail = new_node\n",
    "        self.length = 1\n",
    "\n",
    "    def print_list(self):\n",
    "        temp = self.head\n",
    "        while temp is not None:\n",
    "            print(temp.value)\n",
    "            temp = temp.next\n",
    "        \n",
    "    def append(self, value):\n",
    "        new_node = Node(value)\n",
    "        if self.head is None:\n",
    "            self.head = new_node\n",
    "            self.tail = new_node\n",
    "        else:\n",
    "            self.tail.next = new_node\n",
    "            self.tail = new_node\n",
    "        self.length += 1\n",
    "\n",
    "    def bubble_sort(self):\n",
    "        if self.length < 2:\n",
    "            return\n",
    "        \n",
    "        sorted_until = None\n",
    "        \n",
    "        while sorted_until != self.head.next:\n",
    "            current = self.head\n",
    "            while current.next != sorted_until:\n",
    "                next_node = current.next\n",
    "                if current.value > next_node.value:\n",
    "                    current.value, next_node.value = next_node.value, current.value\n",
    "                current = current.next\n",
    "            sorted_until = current"
   ]
  },
  {
   "cell_type": "code",
   "execution_count": null,
   "metadata": {},
   "outputs": [],
   "source": []
  },
  {
   "cell_type": "code",
   "execution_count": null,
   "metadata": {},
   "outputs": [],
   "source": []
  }
 ],
 "metadata": {
  "language_info": {
   "name": "python"
  }
 },
 "nbformat": 4,
 "nbformat_minor": 2
}
