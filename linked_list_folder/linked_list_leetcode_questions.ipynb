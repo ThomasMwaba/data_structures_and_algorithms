{
 "cells": [
  {
   "cell_type": "markdown",
   "metadata": {},
   "source": [
    "##### 1. LL: Find Middle Node ( ** Interview Question)\n",
    "\n",
    "Implement the find_middle_node method for the LinkedList class."
   ]
  },
  {
   "cell_type": "code",
   "execution_count": 36,
   "metadata": {},
   "outputs": [],
   "source": [
    "class Node:\n",
    "    def __init__(self,value):\n",
    "        self.value = value \n",
    "        self.next = None \n",
    "        \n",
    "        \n",
    "class LinkedList:\n",
    "    \n",
    "    def __init__(self,value):\n",
    "        \n",
    "        new_node = Node(value)\n",
    "        self.head = new_node\n",
    "        self.tail = new_node\n",
    "        \n",
    "    def append(self,value):\n",
    "        new_node = Node(value)\n",
    "        \n",
    "        if self.head == None:\n",
    "            self.head = new_node\n",
    "            self.tail = new_node\n",
    "            \n",
    "        else:\n",
    "            self.tail.next = new_node\n",
    "            self.tail = new_node\n",
    "            \n",
    "    def print_list(self):\n",
    "            \n",
    "        temp = self.head\n",
    "            \n",
    "        while temp is not None:\n",
    "            print(temp.value)\n",
    "            temp = temp.next\n",
    "            \n",
    "        \n",
    "        \n",
    "    def find_middle_node(self):\n",
    "        \n",
    "        slow = self.head\n",
    "        fast = self.head \n",
    "        \n",
    "        while fast and fast.next is not None:\n",
    "            \n",
    "            slow = slow.next \n",
    "            fast = fast.next.next \n",
    "            \n",
    "        return slow.value\n",
    "    \n",
    "    \n",
    "    \n",
    "    \n",
    "    \n",
    "    \n",
    "     \n",
    "\n",
    "        "
   ]
  },
  {
   "cell_type": "code",
   "execution_count": 37,
   "metadata": {},
   "outputs": [],
   "source": [
    "my_linked_list = LinkedList(22)"
   ]
  },
  {
   "cell_type": "code",
   "execution_count": 38,
   "metadata": {},
   "outputs": [],
   "source": [
    "my_linked_list.append(23)"
   ]
  },
  {
   "cell_type": "code",
   "execution_count": 39,
   "metadata": {},
   "outputs": [],
   "source": [
    "my_linked_list.append(24)"
   ]
  },
  {
   "cell_type": "code",
   "execution_count": 40,
   "metadata": {},
   "outputs": [],
   "source": [
    "my_linked_list.append(25)"
   ]
  },
  {
   "cell_type": "code",
   "execution_count": 41,
   "metadata": {},
   "outputs": [],
   "source": [
    "my_linked_list.append(26)"
   ]
  },
  {
   "cell_type": "code",
   "execution_count": 42,
   "metadata": {},
   "outputs": [
    {
     "name": "stdout",
     "output_type": "stream",
     "text": [
      "22\n",
      "23\n",
      "24\n",
      "25\n",
      "26\n"
     ]
    }
   ],
   "source": [
    "my_linked_list.print_list()"
   ]
  },
  {
   "cell_type": "code",
   "execution_count": 43,
   "metadata": {},
   "outputs": [
    {
     "data": {
      "text/plain": [
       "24"
      ]
     },
     "execution_count": 43,
     "metadata": {},
     "output_type": "execute_result"
    }
   ],
   "source": [
    "my_linked_list.find_middle_node()"
   ]
  },
  {
   "cell_type": "markdown",
   "metadata": {},
   "source": [
    "##### 2. LL: Has Loop ( ** Interview Question)\n",
    "\n",
    "* Write a method called has_loop that is part of the linked list class.\n",
    "\n",
    "* The method should be able to detect if there is a cycle or loop present in the linked list.\n",
    "\n",
    "* You are required to use Floyd's cycle-finding algorithm (also known as the \"tortoise and the hare\" algorithm) to detect the loop.\n",
    "\n",
    "* This algorithm uses two pointers: a slow pointer and a fast pointer. The slow pointer moves one step at a time, while the fast pointer moves two steps at a time. If there is a loop in the linked list, the two pointers will eventually meet at some point. If there is no loop, the fast pointer will reach the end of the list."
   ]
  },
  {
   "cell_type": "code",
   "execution_count": 44,
   "metadata": {},
   "outputs": [],
   "source": [
    "class Node:\n",
    "    def __init__(self,value):\n",
    "        self.value = value \n",
    "        self.next = None \n",
    "        \n",
    "        \n",
    "class LinkedListTwo:\n",
    "    \n",
    "    def __init__(self,value):\n",
    "        \n",
    "        new_node = Node(value)\n",
    "        self.head = new_node\n",
    "        self.tail = new_node\n",
    "        \n",
    "    def append(self,value):\n",
    "        new_node = Node(value)\n",
    "        \n",
    "        if self.head == None:\n",
    "            self.head = new_node\n",
    "            self.tail = new_node\n",
    "            \n",
    "        else:\n",
    "            self.tail.next = new_node\n",
    "            self.tail = new_node\n",
    "            \n",
    "    def has_loop(self):\n",
    "        \n",
    "        slow = self.head\n",
    "        fast = self.head\n",
    "        while fast and fast.next:\n",
    "            \n",
    "            slow = slow.next\n",
    "            fast = fast.next.next \n",
    "            \n",
    "            if slow == fast:\n",
    "                return True\n",
    "            \n",
    "        return False"
   ]
  },
  {
   "cell_type": "code",
   "execution_count": 45,
   "metadata": {},
   "outputs": [
    {
     "data": {
      "text/plain": [
       "False"
      ]
     },
     "execution_count": 45,
     "metadata": {},
     "output_type": "execute_result"
    }
   ],
   "source": [
    "my_linked_list_2 = LinkedListTwo(1)\n",
    "my_linked_list_2.append(2)\n",
    "my_linked_list_2.append(3)\n",
    "my_linked_list_2.append(4)\n",
    "my_linked_list_2.has_loop()"
   ]
  },
  {
   "cell_type": "markdown",
   "metadata": {},
   "source": [
    "#### LL: Find Kth Node From End ( ** Interview Question)\n",
    "\n",
    "* Implement the find_kth_from_end function, which takes the LinkedList (ll) and an integer k as input, and returns the k-th node from the end of the linked list WITHOUT USING LENGTH."
   ]
  },
  {
   "cell_type": "code",
   "execution_count": null,
   "metadata": {},
   "outputs": [],
   "source": [
    "def find_kth_from_end(ll,k):\n",
    "    \n",
    "    fast = ll.head \n",
    "    slow = ll.head \n",
    "    \n",
    "    for _ in range(k):\n",
    "        \n",
    "        if fast == None:\n",
    "            \n",
    "            return fast\n",
    "            \n",
    "        fast = fast.next \n",
    "        \n",
    "    while fast:\n",
    "        \n",
    "        slow = slow.next\n",
    "        fast = fast.next \n",
    "        \n",
    "    return slow  \n",
    "    \n",
    "    "
   ]
  }
 ],
 "metadata": {
  "kernelspec": {
   "display_name": "Python 3",
   "language": "python",
   "name": "python3"
  },
  "language_info": {
   "codemirror_mode": {
    "name": "ipython",
    "version": 3
   },
   "file_extension": ".py",
   "mimetype": "text/x-python",
   "name": "python",
   "nbconvert_exporter": "python",
   "pygments_lexer": "ipython3",
   "version": "3.11.1"
  }
 },
 "nbformat": 4,
 "nbformat_minor": 2
}
