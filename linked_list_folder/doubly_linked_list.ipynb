{
 "cells": [
  {
   "cell_type": "code",
   "execution_count": 52,
   "metadata": {},
   "outputs": [],
   "source": [
    "class Node:\n",
    "    \n",
    "    def __init__(self,value):\n",
    "        \n",
    "        self.value = value\n",
    "        self.next = None\n",
    "        self.prev = None \n",
    "        \n",
    "class DoublyLinkedList:\n",
    "    \n",
    "    def __init__(self,value):\n",
    "        \n",
    "        new_node = Node(value)\n",
    "        self.head = new_node\n",
    "        self.tail = new_node\n",
    "        self.length = 1\n",
    "        \n",
    "    def print_list(self):\n",
    "        \n",
    "        temp = self.head \n",
    "        while temp is not None:\n",
    "            \n",
    "            print(temp.value)\n",
    "            \n",
    "            temp = temp.next\n",
    "            \n",
    "    def append(self,value):\n",
    "        new_node = Node(value)\n",
    "        \n",
    "        if self.head is None:\n",
    "            self.head = Node(value)\n",
    "            self.tail = Node(value)\n",
    "            \n",
    "        else:\n",
    "            \n",
    "            self.tail.next = new_node\n",
    "            new_node.prev = self.tail \n",
    "            self.tail = new_node\n",
    "            \n",
    "        self.length += 1\n",
    "        \n",
    "        return True\n",
    "    \n",
    "    def pop(self):\n",
    "        \n",
    "        if self.length == 0:\n",
    "            \n",
    "            return None\n",
    "        temp = self.tail\n",
    "        \n",
    "        if self.length == 1:\n",
    "            self.head = None \n",
    "            self.tail = None\n",
    "            \n",
    "        else:\n",
    "            self.tail = self.tail.prev\n",
    "            self.tail.next = None\n",
    "            temp.prev = None \n",
    "        self.length -= 1\n",
    "        \n",
    "        return temp\n",
    "    \n",
    "    def prepend(self,value):\n",
    "        \n",
    "        new_node = Node(value)\n",
    "        \n",
    "        if self.length == 0:\n",
    "            \n",
    "            self.head = new_node\n",
    "            self.tail = new_node\n",
    "            \n",
    "        else:\n",
    "            \n",
    "            new_node.next = self.head\n",
    "            self.head.prev = new_node\n",
    "            self.head = new_node\n",
    "        self.length += 1\n",
    "        \n",
    "        return True\n",
    "    \n",
    "    def pop_first(self):\n",
    "        \n",
    "        if self.length == 0:\n",
    "            \n",
    "            return None\n",
    "        temp = self.head\n",
    "        \n",
    "        if self.length == 1:\n",
    "            \n",
    "            self.head = None \n",
    "            self.tail = None \n",
    "            \n",
    "        else:\n",
    "            \n",
    "            self.head = self.head.next \n",
    "            self.head.prev = None \n",
    "            temp.next = None \n",
    "            \n",
    "        self.length -= 1\n",
    "        \n",
    "        return temp\n",
    "    \n",
    "    def get(self, index):\n",
    "        \n",
    "        if index < 0 and index >= self.length:\n",
    "            \n",
    "            return None \n",
    "        \n",
    "        temp = self.head\n",
    "        \n",
    "        if index < self.length / 2 :\n",
    "            for _ in range(index):\n",
    "                \n",
    "                temp = temp.next \n",
    "                \n",
    "        else:\n",
    "            temp = self.tail\n",
    "            for _ in  range(self.length - 1, index,-1):\n",
    "                \n",
    "                temp = temp.prev \n",
    "                \n",
    "        return temp\n",
    "                \n",
    "                \n",
    "            \n",
    "            \n",
    "            \n",
    "            \n",
    "            \n",
    "        \n",
    "            \n",
    "        \n",
    "            "
   ]
  },
  {
   "cell_type": "code",
   "execution_count": 53,
   "metadata": {},
   "outputs": [
    {
     "data": {
      "text/plain": [
       "True"
      ]
     },
     "execution_count": 53,
     "metadata": {},
     "output_type": "execute_result"
    }
   ],
   "source": [
    "my_doubly_linked_list = DoublyLinkedList(24)\n",
    "my_doubly_linked_list.append(25)\n",
    "my_doubly_linked_list.append(26)"
   ]
  },
  {
   "cell_type": "code",
   "execution_count": 54,
   "metadata": {},
   "outputs": [
    {
     "name": "stdout",
     "output_type": "stream",
     "text": [
      "24\n",
      "25\n",
      "26\n"
     ]
    }
   ],
   "source": [
    "my_doubly_linked_list.print_list()"
   ]
  },
  {
   "cell_type": "code",
   "execution_count": 55,
   "metadata": {},
   "outputs": [
    {
     "data": {
      "text/plain": [
       "<__main__.Node at 0x209a94d9710>"
      ]
     },
     "execution_count": 55,
     "metadata": {},
     "output_type": "execute_result"
    }
   ],
   "source": [
    "my_doubly_linked_list.pop()"
   ]
  },
  {
   "cell_type": "code",
   "execution_count": 56,
   "metadata": {},
   "outputs": [
    {
     "name": "stdout",
     "output_type": "stream",
     "text": [
      "24\n",
      "25\n"
     ]
    }
   ],
   "source": [
    "my_doubly_linked_list.print_list()"
   ]
  },
  {
   "cell_type": "code",
   "execution_count": 57,
   "metadata": {},
   "outputs": [
    {
     "data": {
      "text/plain": [
       "True"
      ]
     },
     "execution_count": 57,
     "metadata": {},
     "output_type": "execute_result"
    }
   ],
   "source": [
    "my_doubly_linked_list.append(26)"
   ]
  },
  {
   "cell_type": "code",
   "execution_count": 58,
   "metadata": {},
   "outputs": [
    {
     "data": {
      "text/plain": [
       "True"
      ]
     },
     "execution_count": 58,
     "metadata": {},
     "output_type": "execute_result"
    }
   ],
   "source": [
    "my_doubly_linked_list.prepend(23)\n",
    "my_doubly_linked_list.prepend(22)"
   ]
  },
  {
   "cell_type": "code",
   "execution_count": 59,
   "metadata": {},
   "outputs": [
    {
     "name": "stdout",
     "output_type": "stream",
     "text": [
      "22\n",
      "23\n",
      "24\n",
      "25\n",
      "26\n"
     ]
    }
   ],
   "source": [
    "my_doubly_linked_list.print_list()"
   ]
  },
  {
   "cell_type": "code",
   "execution_count": 60,
   "metadata": {},
   "outputs": [
    {
     "data": {
      "text/plain": [
       "<__main__.Node at 0x209a944ad50>"
      ]
     },
     "execution_count": 60,
     "metadata": {},
     "output_type": "execute_result"
    }
   ],
   "source": [
    "my_doubly_linked_list.pop_first()"
   ]
  },
  {
   "cell_type": "code",
   "execution_count": 61,
   "metadata": {},
   "outputs": [
    {
     "name": "stdout",
     "output_type": "stream",
     "text": [
      "23\n",
      "24\n",
      "25\n",
      "26\n"
     ]
    }
   ],
   "source": [
    "my_doubly_linked_list.print_list()"
   ]
  },
  {
   "cell_type": "code",
   "execution_count": 62,
   "metadata": {},
   "outputs": [
    {
     "data": {
      "text/plain": [
       "<__main__.Node at 0x209a94b45d0>"
      ]
     },
     "execution_count": 62,
     "metadata": {},
     "output_type": "execute_result"
    }
   ],
   "source": [
    "my_doubly_linked_list.get(2)"
   ]
  },
  {
   "cell_type": "code",
   "execution_count": null,
   "metadata": {},
   "outputs": [],
   "source": []
  }
 ],
 "metadata": {
  "kernelspec": {
   "display_name": "Python 3",
   "language": "python",
   "name": "python3"
  },
  "language_info": {
   "codemirror_mode": {
    "name": "ipython",
    "version": 3
   },
   "file_extension": ".py",
   "mimetype": "text/x-python",
   "name": "python",
   "nbconvert_exporter": "python",
   "pygments_lexer": "ipython3",
   "version": "3.11.1"
  }
 },
 "nbformat": 4,
 "nbformat_minor": 2
}
