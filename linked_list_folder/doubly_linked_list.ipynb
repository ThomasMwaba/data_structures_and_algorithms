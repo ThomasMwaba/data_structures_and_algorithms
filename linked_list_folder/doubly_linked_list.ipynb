{
 "cells": [
  {
   "cell_type": "code",
   "execution_count": 52,
   "metadata": {},
   "outputs": [],
   "source": [
    "class Node:\n",
    "    \n",
    "    def __init__(self,value):\n",
    "        # Store node value\n",
    "        self.value = value\n",
    "        # Reference to next node\n",
    "        self.next = None\n",
    "        # Reference to previous\n",
    "        self.prev = None \n",
    "        \n",
    "class DoublyLinkedList:\n",
    "    \n",
    "    def __init__(self,value):\n",
    "        # Create new node with value\n",
    "        new_node = Node(value)\n",
    "        # Set head to new node\n",
    "        self.head = new_node\n",
    "        # Set tail to new node\n",
    "        self.tail = new_node\n",
    "        # Set initial length to 1\n",
    "        self.length = 1\n",
    "        \n",
    "    def print_list(self):\n",
    "        \n",
    "        temp = self.head \n",
    "        while temp is not None:\n",
    "            \n",
    "            print(temp.value)\n",
    "            \n",
    "            temp = temp.next\n",
    "            \n",
    "    def append(self,value):\n",
    "        # Create a new node with the given value\n",
    "        new_node = Node(value)\n",
    "        # Check if the list is empty (head is None)\n",
    "        if self.head is None:\n",
    "            # Set head and tail to the new node\n",
    "            self.head = Node(value)\n",
    "            self.tail = Node(value)\n",
    "            \n",
    "        else:\n",
    "            # Connect the new node to the end of the list\n",
    "            self.tail.next = new_node\n",
    "            # Connect the new node to the previous node\n",
    "            new_node.prev = self.tail\n",
    "            # Update the tail to point to the new node\n",
    "            self.tail = new_node\n",
    "        # Increment the length of the list   \n",
    "        self.length += 1\n",
    "        # Return True to indicate success\n",
    "        return True\n",
    "    \n",
    "    def pop(self):\n",
    "        \n",
    "         # Check if the list has no nodes\n",
    "        if self.length == 0:\n",
    "            # Return None to show an empty list\n",
    "            return None\n",
    "        # Store the tail node in 'temp' variable\n",
    "        temp = self.tail\n",
    "        \n",
    "        # If list has just one node\n",
    "        if self.length == 1:\n",
    "            # Set head and tail to None, making list empty\n",
    "            self.head = None \n",
    "            self.tail = None\n",
    "            \n",
    "        else:\n",
    "            # Set the tail to the node before the current tail\n",
    "            self.tail = self.tail.prev\n",
    "            # Remove link to last node by setting next to None\n",
    "            self.tail.next = None\n",
    "             # Detach the popped node from the list\n",
    "            temp.prev = None\n",
    "        # Decrement list length by 1 to reflect removal \n",
    "        self.length -= 1\n",
    "        \n",
    "        # Return the removed node\n",
    "        return temp\n",
    "    \n",
    "    def prepend(self,value):\n",
    "        # Create a new node with the given value\n",
    "        new_node = Node(value)\n",
    "        \n",
    "        # Check if the list is empty (head is None)\n",
    "        if self.length == 0:\n",
    "            # Set head and tail to the new node\n",
    "            self.head = new_node\n",
    "            self.tail = new_node\n",
    "            \n",
    "        else:\n",
    "            # Connect the new node to the head of the list\n",
    "            new_node.next = self.head\n",
    "            self.head.prev = new_node\n",
    "            # Update the head to point to the new node\n",
    "            self.head = new_node\n",
    "         # Increment the length of the list\n",
    "        self.length += 1\n",
    "        # Return True to indicate success\n",
    "        return True\n",
    "    \n",
    "    def pop_first(self):\n",
    "        \n",
    "        # Check if the list has no nodes\n",
    "        if self.length == 0:\n",
    "            # Return None to indicate an empty list\n",
    "            return None\n",
    "         # Store the head node in 'temp' variable\n",
    "        temp = self.head\n",
    "        \n",
    "         # If list has just one node\n",
    "        if self.length == 1:\n",
    "        # Set head and tail to None, making list empty\n",
    "            self.head = None\n",
    "            self.tail = None\n",
    "            \n",
    "        else:\n",
    "            # Set the head to the next node \n",
    "            self.head = self.head.next\n",
    "            # Remove link to first node by setting next to None\n",
    "            self.head.prev = None\n",
    "            # Detach the popped node from the list\n",
    "            temp.next = None \n",
    "         # Decrement list length by 1 to reflect remova    \n",
    "        self.length -= 1\n",
    "        \n",
    "        # Return the removed node\n",
    "        return temp\n",
    "    \n",
    "    def get(self, index):\n",
    "        \n",
    "        if index < 0 and index >= self.length:\n",
    "            \n",
    "            return None \n",
    "        \n",
    "        temp = self.head\n",
    "        \n",
    "        if index < self.length / 2 :\n",
    "            for _ in range(index):\n",
    "                \n",
    "                temp = temp.next \n",
    "                \n",
    "        else:\n",
    "            temp = self.tail\n",
    "            for _ in  range(self.length - 1, index,-1):\n",
    "                \n",
    "                temp = temp.prev \n",
    "                \n",
    "        return temp\n",
    "    \n",
    "    def set_value(self,index,value):\n",
    "        \n",
    "        # Get the number at the index using get method\n",
    "        temp = self.get(index)\n",
    "        \n",
    "        # Check if a valid node was found at the specified index\n",
    "        if temp:\n",
    "            # Update the value of the found node with the given value\n",
    "            temp.value = value \n",
    "        # Return True to indicate that the value was updated successfully    \n",
    "            return True\n",
    "        \n",
    "        # If no valid node was found, return False to indicate that \n",
    "        # the value was not updated\n",
    "        return False\n",
    "    \n",
    "    def insert(self, index,value):\n",
    "        \n",
    "        if index < 0 or index > self.length:\n",
    "            return False\n",
    "        \n",
    "        if index == 0:\n",
    "            return self.prepend(value)\n",
    "        \n",
    "        if index == self.length:\n",
    "            return self.append(value)\n",
    "        \n",
    "        new_node = Node(value)\n",
    "        \n",
    "        before = self.get(index - 1)\n",
    "        \n",
    "        after = before.next\n",
    "        \n",
    "        new_node.prev = before\n",
    "        new_node.next = after \n",
    "        before.next = new_node\n",
    "        after.prev = new_node\n",
    "        \n",
    "        self.length += 1\n",
    "        return True\n",
    "    \n",
    "    def remove(self, index):\n",
    "        \n",
    "        if index < 0 or index >= self.length:\n",
    "            return None \n",
    "        \n",
    "        if index == 0:\n",
    "            return self.pop_first()\n",
    "        \n",
    "        if index == self.length - 1:\n",
    "            return self.pop()\n",
    "        \n",
    "        temp = self.get(index)\n",
    "        \n",
    "        temp.next.prev = temp.prev\n",
    "        temp.prev.next = temp.next\n",
    "        temp.next = None \n",
    "        temp.prev = None \n",
    "        \n",
    "        self.length -= 1\n",
    "        return temp\n",
    "        \n",
    "        \n",
    "    \n",
    "    \n",
    "    \n",
    "        \n",
    "        \n",
    "    \n",
    "    \n",
    "                \n",
    "                \n",
    "            \n",
    "            \n",
    "            \n",
    "            \n",
    "            \n",
    "        \n",
    "            \n",
    "        \n",
    "            "
   ]
  },
  {
   "cell_type": "code",
   "execution_count": 53,
   "metadata": {},
   "outputs": [
    {
     "data": {
      "text/plain": [
       "True"
      ]
     },
     "execution_count": 53,
     "metadata": {},
     "output_type": "execute_result"
    }
   ],
   "source": [
    "my_doubly_linked_list = DoublyLinkedList(24)\n",
    "my_doubly_linked_list.append(25)\n",
    "my_doubly_linked_list.append(26)"
   ]
  },
  {
   "cell_type": "code",
   "execution_count": 54,
   "metadata": {},
   "outputs": [
    {
     "name": "stdout",
     "output_type": "stream",
     "text": [
      "24\n",
      "25\n",
      "26\n"
     ]
    }
   ],
   "source": [
    "my_doubly_linked_list.print_list()"
   ]
  },
  {
   "cell_type": "code",
   "execution_count": 55,
   "metadata": {},
   "outputs": [
    {
     "data": {
      "text/plain": [
       "<__main__.Node at 0x209a94d9710>"
      ]
     },
     "execution_count": 55,
     "metadata": {},
     "output_type": "execute_result"
    }
   ],
   "source": [
    "my_doubly_linked_list.pop()"
   ]
  },
  {
   "cell_type": "code",
   "execution_count": 56,
   "metadata": {},
   "outputs": [
    {
     "name": "stdout",
     "output_type": "stream",
     "text": [
      "24\n",
      "25\n"
     ]
    }
   ],
   "source": [
    "my_doubly_linked_list.print_list()"
   ]
  },
  {
   "cell_type": "code",
   "execution_count": 57,
   "metadata": {},
   "outputs": [
    {
     "data": {
      "text/plain": [
       "True"
      ]
     },
     "execution_count": 57,
     "metadata": {},
     "output_type": "execute_result"
    }
   ],
   "source": [
    "my_doubly_linked_list.append(26)"
   ]
  },
  {
   "cell_type": "code",
   "execution_count": 58,
   "metadata": {},
   "outputs": [
    {
     "data": {
      "text/plain": [
       "True"
      ]
     },
     "execution_count": 58,
     "metadata": {},
     "output_type": "execute_result"
    }
   ],
   "source": [
    "my_doubly_linked_list.prepend(23)\n",
    "my_doubly_linked_list.prepend(22)"
   ]
  },
  {
   "cell_type": "code",
   "execution_count": 59,
   "metadata": {},
   "outputs": [
    {
     "name": "stdout",
     "output_type": "stream",
     "text": [
      "22\n",
      "23\n",
      "24\n",
      "25\n",
      "26\n"
     ]
    }
   ],
   "source": [
    "my_doubly_linked_list.print_list()"
   ]
  },
  {
   "cell_type": "code",
   "execution_count": 60,
   "metadata": {},
   "outputs": [
    {
     "data": {
      "text/plain": [
       "<__main__.Node at 0x209a944ad50>"
      ]
     },
     "execution_count": 60,
     "metadata": {},
     "output_type": "execute_result"
    }
   ],
   "source": [
    "my_doubly_linked_list.pop_first()"
   ]
  },
  {
   "cell_type": "code",
   "execution_count": 61,
   "metadata": {},
   "outputs": [
    {
     "name": "stdout",
     "output_type": "stream",
     "text": [
      "23\n",
      "24\n",
      "25\n",
      "26\n"
     ]
    }
   ],
   "source": [
    "my_doubly_linked_list.print_list()"
   ]
  },
  {
   "cell_type": "code",
   "execution_count": 62,
   "metadata": {},
   "outputs": [
    {
     "data": {
      "text/plain": [
       "<__main__.Node at 0x209a94b45d0>"
      ]
     },
     "execution_count": 62,
     "metadata": {},
     "output_type": "execute_result"
    }
   ],
   "source": [
    "my_doubly_linked_list.get(2)"
   ]
  },
  {
   "cell_type": "code",
   "execution_count": null,
   "metadata": {},
   "outputs": [],
   "source": []
  }
 ],
 "metadata": {
  "kernelspec": {
   "display_name": "Python 3",
   "language": "python",
   "name": "python3"
  },
  "language_info": {
   "codemirror_mode": {
    "name": "ipython",
    "version": 3
   },
   "file_extension": ".py",
   "mimetype": "text/x-python",
   "name": "python",
   "nbconvert_exporter": "python",
   "pygments_lexer": "ipython3",
   "version": "3.11.1"
  }
 },
 "nbformat": 4,
 "nbformat_minor": 2
}
