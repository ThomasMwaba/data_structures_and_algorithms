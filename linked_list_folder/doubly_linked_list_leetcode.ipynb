{
 "cells": [
  {
   "cell_type": "markdown",
   "metadata": {},
   "source": [
    "### 1. DLL: Swap First and Last ( ** Interview Question)\n",
    "\n",
    "Swap the values of the first and last node\n",
    "\n",
    "#### Method name:\n",
    "swap_first_last\n",
    "\n",
    "Note that the pointers to the nodes themselves are not swapped - only their values are exchanged."
   ]
  },
  {
   "cell_type": "markdown",
   "metadata": {},
   "source": [
    "#### 2. DLL: Reverse ( ** Interview Question)\n",
    "Create a new method called reverse that reverses the order of the nodes in the list, i.e., the first node becomes the last node, the second node becomes the second-to-last node, and so on.\n",
    "\n",
    "To do this, you'll need to traverse the list and change the direction of the pointers between the nodes so that they point in the opposite direction.\n",
    "\n",
    "Do not change the value of any of the nodes.\n",
    "\n",
    "Once you've done this for all nodes, you'll also need to update the head and tail pointers to reflect the new order of the nodes"
   ]
  },
  {
   "cell_type": "markdown",
   "metadata": {},
   "source": [
    "#### 3. DLL: Palindrome Checker ( ** Interview Question)\n",
    "Write a method to determine whether a given doubly linked list reads the same forwards and backwards.\n",
    "\n",
    "For example, if the list contains the values [1, 2, 3, 2, 1], then the method should return True, since the list is a palindrome.\n",
    "\n",
    "If the list contains the values [1, 2, 3, 4, 5], then the method should return False, since the list is not a palindrome.\n",
    "\n",
    "Method name:\n",
    "is_palindrome"
   ]
  },
  {
   "cell_type": "markdown",
   "metadata": {},
   "source": [
    "#### 4.DLL: Swap Nodes in Pairs ( ** Interview Question)\n",
    "\n",
    "You are given a doubly linked list.\n",
    "\n",
    "Implement a method called swap_pairs within the class that swaps the values of adjacent nodes in the linked list. The method should not take any input parameters.\n",
    "\n",
    "Note: This DoublyLinkedList does not have a tail pointer which will make the implementation easier.\n",
    "\n",
    "Example:\n",
    "\n",
    "1 <-> 2 <-> 3 <-> 4 should become 2 <-> 1 <-> 4 <-> 3\n",
    "\n",
    "Your implementation should handle edge cases such as an empty linked list or a linked list with only one node.\n",
    "\n",
    "Note: You must solve the problem WITHOUT MODIFYING THE VALUES in the list's nodes (i.e., only the nodes' prev and next pointers may be changed.)"
   ]
  },
  {
   "cell_type": "code",
   "execution_count": null,
   "metadata": {},
   "outputs": [],
   "source": []
  },
  {
   "cell_type": "code",
   "execution_count": 1,
   "metadata": {},
   "outputs": [],
   "source": [
    "class Node:\n",
    "    def __init__(self, value):\n",
    "        self.value = value\n",
    "        self.next = None\n",
    "        self.prev = None\n",
    "        \n",
    "\n",
    "class DoublyLinkedList:\n",
    "    def __init__(self, value):\n",
    "        new_node = Node(value)\n",
    "        self.head = new_node\n",
    "        self.tail = new_node\n",
    "        self.length = 1\n",
    "\n",
    "    def print_list(self):\n",
    "        temp = self.head\n",
    "        while temp is not None:\n",
    "            print(temp.value)\n",
    "            temp = temp.next\n",
    "        \n",
    "    def append(self, value):\n",
    "        new_node = Node(value)\n",
    "        if self.head is None:\n",
    "            self.head = new_node\n",
    "            self.tail = new_node\n",
    "        else:\n",
    "            self.tail.next = new_node\n",
    "            new_node.prev = self.tail\n",
    "            self.tail = new_node\n",
    "        self.length += 1\n",
    "        return True\n",
    "\n",
    "    def swap_first_last(self):\n",
    "        \n",
    "        # 1. Check if the doubly linked list is empty or has only one node. \n",
    "        # If so, there's nothing to swap, hence exit the function early.\n",
    "        if self.head is None or self.head == self.tail:\n",
    "            return None \n",
    "        \n",
    "    # 2. If the list has more than one node, swap the values of the \n",
    "        # set the value of first node (head) to first and the last node (tail) to last\n",
    "        first = self.head.value\n",
    "        last = self.tail.value\n",
    "        \n",
    "        # swap the values\n",
    "        self.head.value = last \n",
    "        self.tail.value = first\n",
    "        \n",
    "\n",
    "    def reverse(self):\n",
    "        temp = self.head\n",
    "        while temp is not None:\n",
    "            # swap the prev and next pointers of node points to\n",
    "            temp.prev, temp.next = temp.next, temp.prev\n",
    "                \n",
    "            # move to the next node\n",
    "            temp = temp.prev\n",
    "                \n",
    "            # swap the head and tail pointers\n",
    "        self.head, self.tail = self.tail, self.head\n",
    "        \n",
    "    def is_palindrome(self):\n",
    "        \n",
    "        # 1. If the length is 0 or 1, then \n",
    "        # the list is  a palindrome. \n",
    "        if self.length <= 1:\n",
    "            return True\n",
    "        \n",
    "        # 2. Initialize two pointers: 'forward_node' starting at the head \n",
    "        # and 'backward_node' starting at the tail.\n",
    "        forward_node = self.head\n",
    "        backward_node = self.tail\n",
    "        \n",
    "        # 3. Go through the first half of the list.\n",
    "        # check half because we're comparing two nodes at the same time\n",
    "        # one from the beginning and one from the end.\n",
    "        for i in range(self.length // 2):\n",
    "            # 3.1. Compare the values of 'forward_node' and 'backward_node'. \n",
    "            # If they're different, the list is not a palindrome.\n",
    "            if forward_node.value != backward_node.value:\n",
    "                return False\n",
    "            \n",
    "            # 3.2. Move the 'forward_node' one step towards the tail and \n",
    "            # the 'backward_node' one step towards the head for the next iteration.\n",
    "            forward_node = forward_node.next\n",
    "            backward_node = backward_node.prev\n",
    "    \n",
    "        # 4. If we've gone through the first half of the list without \n",
    "        # finding any non-matching node values, then the list is a palindrome.\n",
    "        return True\n",
    "    \n",
    "    def swap_pairs(self):\n",
    "        # Step 1: Initialize a dummy node to act as a placeholder\n",
    "        # for the start of the list.\n",
    "        dummy_node = Node(0)\n",
    "    \n",
    "        # Connect this dummy node to the actual head of the list.\n",
    "        # This simplifies the swapping process.\n",
    "        dummy_node.next = self.head\n",
    "    \n",
    "        # Step 2: Initialize 'previous_node' to 'dummy_node'.\n",
    "        # This helps us remember the node just before the pair\n",
    "        # we are about to swap.\n",
    "        previous_node = dummy_node\n",
    "    \n",
    "        # Step 3: Loop through the list as long as there are pairs\n",
    "        # of nodes available to swap.\n",
    "        while self.head and self.head.next:\n",
    "    \n",
    "            # Identify the first node in the pair to be swapped.\n",
    "            first_node = self.head\n",
    "    \n",
    "            # Identify the second node in the pair to be swapped.\n",
    "            second_node = self.head.next\n",
    "    \n",
    "            # Update 'previous_node' to point to 'second_node',\n",
    "            # effectively skipping over 'first_node'.\n",
    "            previous_node.next = second_node\n",
    "    \n",
    "            # Connect 'first_node' to the node that comes after\n",
    "            # 'second_node'. This ensures we don't lose the\n",
    "            # rest of the list.\n",
    "            first_node.next = second_node.next\n",
    "    \n",
    "            # Swap 'first_node' and 'second_node' by connecting\n",
    "            # 'second_node' back to 'first_node'.\n",
    "            second_node.next = first_node\n",
    "    \n",
    "            # Update the 'prev' pointers for both 'first_node'\n",
    "            # and 'second_node' to maintain the doubly-linked\n",
    "            # structure.\n",
    "            second_node.prev = previous_node\n",
    "            first_node.prev = second_node\n",
    "    \n",
    "            # If there's a node after 'first_node', update its\n",
    "            # 'prev' to point back to 'first_node'.\n",
    "            if first_node.next:\n",
    "                first_node.next.prev = first_node\n",
    "    \n",
    "            # Move the 'head' to the node just after 'first_node'\n",
    "            # to prepare for the next iteration.\n",
    "            self.head = first_node.next\n",
    "    \n",
    "            # Update 'previous_node' to point to 'first_node'\n",
    "            # for the next pair to swap.\n",
    "            previous_node = first_node\n",
    "    \n",
    "        # After the loop, set the new head of the list to the\n",
    "        # node that comes after 'dummy_node'.\n",
    "        self.head = dummy_node.next\n",
    "    \n",
    "        # Make sure the new head's 'prev' is set to None, as it\n",
    "        # is now the first node in the list.\n",
    "        if self.head:\n",
    "            self.head.prev = None"
   ]
  },
  {
   "cell_type": "code",
   "execution_count": 34,
   "metadata": {},
   "outputs": [
    {
     "data": {
      "text/plain": [
       "True"
      ]
     },
     "execution_count": 34,
     "metadata": {},
     "output_type": "execute_result"
    }
   ],
   "source": [
    "my_doubly_linked_list = DoublyLinkedList(5)\n",
    "my_doubly_linked_list.append(6)\n",
    "my_doubly_linked_list.append(7)\n",
    "my_doubly_linked_list.append(8)"
   ]
  },
  {
   "cell_type": "code",
   "execution_count": 35,
   "metadata": {},
   "outputs": [
    {
     "name": "stdout",
     "output_type": "stream",
     "text": [
      "Before Swap:\n",
      "5\n",
      "6\n",
      "7\n",
      "8\n"
     ]
    }
   ],
   "source": [
    "print('Before Swap:')\n",
    "my_doubly_linked_list.print_list()"
   ]
  },
  {
   "cell_type": "code",
   "execution_count": 36,
   "metadata": {},
   "outputs": [],
   "source": [
    "my_doubly_linked_list.swap_first_last()"
   ]
  },
  {
   "cell_type": "code",
   "execution_count": 37,
   "metadata": {},
   "outputs": [
    {
     "name": "stdout",
     "output_type": "stream",
     "text": [
      "After Swap:\n",
      "8\n",
      "6\n",
      "7\n",
      "5\n"
     ]
    }
   ],
   "source": [
    "print('After Swap:')\n",
    "my_doubly_linked_list.print_list()"
   ]
  },
  {
   "cell_type": "code",
   "execution_count": 38,
   "metadata": {},
   "outputs": [],
   "source": [
    "my_doubly_linked_list.reverse()"
   ]
  },
  {
   "cell_type": "code",
   "execution_count": 39,
   "metadata": {},
   "outputs": [
    {
     "name": "stdout",
     "output_type": "stream",
     "text": [
      "After reversing:\n",
      "5\n",
      "7\n",
      "6\n",
      "8\n"
     ]
    }
   ],
   "source": [
    "print('After reversing:')\n",
    "my_doubly_linked_list.print_list()"
   ]
  },
  {
   "cell_type": "code",
   "execution_count": null,
   "metadata": {},
   "outputs": [],
   "source": []
  }
 ],
 "metadata": {
  "kernelspec": {
   "display_name": "Python 3",
   "language": "python",
   "name": "python3"
  },
  "language_info": {
   "codemirror_mode": {
    "name": "ipython",
    "version": 3
   },
   "file_extension": ".py",
   "mimetype": "text/x-python",
   "name": "python",
   "nbconvert_exporter": "python",
   "pygments_lexer": "ipython3",
   "version": "3.11.1"
  }
 },
 "nbformat": 4,
 "nbformat_minor": 2
}
