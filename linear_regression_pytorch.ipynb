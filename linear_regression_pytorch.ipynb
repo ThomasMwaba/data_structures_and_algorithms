{
 "cells": [
  {
   "cell_type": "code",
   "execution_count": 1,
   "id": "4ceeef1b-f3a1-4679-a6bf-7566729e008d",
   "metadata": {},
   "outputs": [],
   "source": [
    "import matplotlib.pyplot as plt\n",
    "import torch\n",
    "import torch.nn as nn"
   ]
  },
  {
   "cell_type": "code",
   "execution_count": 2,
   "id": "1ec2ae69-f5dc-4a5e-80b5-0fde8d8dc3d0",
   "metadata": {},
   "outputs": [
    {
     "name": "stdout",
     "output_type": "stream",
     "text": [
      "tensor([[ 1.],\n",
      "        [ 2.],\n",
      "        [ 3.],\n",
      "        [ 4.],\n",
      "        [ 5.],\n",
      "        [ 6.],\n",
      "        [ 7.],\n",
      "        [ 8.],\n",
      "        [ 9.],\n",
      "        [10.],\n",
      "        [11.],\n",
      "        [12.],\n",
      "        [13.],\n",
      "        [14.],\n",
      "        [15.],\n",
      "        [16.],\n",
      "        [17.],\n",
      "        [18.],\n",
      "        [19.],\n",
      "        [20.],\n",
      "        [21.],\n",
      "        [22.],\n",
      "        [23.],\n",
      "        [24.],\n",
      "        [25.],\n",
      "        [26.],\n",
      "        [27.],\n",
      "        [28.],\n",
      "        [29.],\n",
      "        [30.],\n",
      "        [31.],\n",
      "        [32.],\n",
      "        [33.],\n",
      "        [34.],\n",
      "        [35.],\n",
      "        [36.],\n",
      "        [37.],\n",
      "        [38.],\n",
      "        [39.],\n",
      "        [40.],\n",
      "        [41.],\n",
      "        [42.],\n",
      "        [43.],\n",
      "        [44.],\n",
      "        [45.],\n",
      "        [46.],\n",
      "        [47.],\n",
      "        [48.],\n",
      "        [49.],\n",
      "        [50.]])\n"
     ]
    }
   ],
   "source": [
    "X = torch.linspace(1,50,50,).reshape(-1,1)\n",
    "print(X) # tensor X having 50 rows and 1 column"
   ]
  },
  {
   "cell_type": "code",
   "execution_count": 3,
   "id": "c7511616-d3f8-4545-aa00-7137a7c522d2",
   "metadata": {},
   "outputs": [],
   "source": [
    "e = torch.randint(-8,9,(50,1),dtype=torch.float) # error"
   ]
  },
  {
   "cell_type": "code",
   "execution_count": 4,
   "id": "be88717c-9e11-4e04-886d-83861c7789ca",
   "metadata": {},
   "outputs": [
    {
     "data": {
      "text/plain": [
       "tensor([[ 6.],\n",
       "        [-5.],\n",
       "        [ 6.],\n",
       "        [-8.],\n",
       "        [ 8.],\n",
       "        [ 8.],\n",
       "        [ 2.],\n",
       "        [-1.],\n",
       "        [ 7.],\n",
       "        [ 5.],\n",
       "        [-5.],\n",
       "        [-7.],\n",
       "        [-1.],\n",
       "        [-6.],\n",
       "        [ 6.],\n",
       "        [-8.],\n",
       "        [-6.],\n",
       "        [-6.],\n",
       "        [-3.],\n",
       "        [ 5.],\n",
       "        [ 2.],\n",
       "        [ 0.],\n",
       "        [ 5.],\n",
       "        [-5.],\n",
       "        [ 2.],\n",
       "        [ 8.],\n",
       "        [-2.],\n",
       "        [-3.],\n",
       "        [-8.],\n",
       "        [-7.],\n",
       "        [ 4.],\n",
       "        [ 3.],\n",
       "        [-6.],\n",
       "        [-6.],\n",
       "        [-8.],\n",
       "        [-6.],\n",
       "        [-8.],\n",
       "        [ 3.],\n",
       "        [ 1.],\n",
       "        [-8.],\n",
       "        [-2.],\n",
       "        [-4.],\n",
       "        [ 6.],\n",
       "        [ 4.],\n",
       "        [-4.],\n",
       "        [ 6.],\n",
       "        [ 3.],\n",
       "        [ 3.],\n",
       "        [-4.],\n",
       "        [ 2.]])"
      ]
     },
     "execution_count": 4,
     "metadata": {},
     "output_type": "execute_result"
    }
   ],
   "source": [
    "e"
   ]
  },
  {
   "cell_type": "code",
   "execution_count": 5,
   "id": "80a35fbb-9572-4443-80ba-78444c18b3c3",
   "metadata": {},
   "outputs": [],
   "source": [
    "y = 2*X + 1 + e # linear regression model"
   ]
  },
  {
   "cell_type": "code",
   "execution_count": 6,
   "id": "9d68f0da-1069-407d-b15e-07d228ad1602",
   "metadata": {},
   "outputs": [
    {
     "data": {
      "text/plain": [
       "torch.Size([50, 1])"
      ]
     },
     "execution_count": 6,
     "metadata": {},
     "output_type": "execute_result"
    }
   ],
   "source": [
    "y.shape # size of tensor y"
   ]
  },
  {
   "cell_type": "code",
   "execution_count": null,
   "id": "7958a6ad-a803-40b9-bbc7-5050f997d15e",
   "metadata": {},
   "outputs": [],
   "source": []
  },
  {
   "cell_type": "code",
   "execution_count": 7,
   "id": "ade3fd7a-f16c-457e-bd91-b25c0de9d84e",
   "metadata": {},
   "outputs": [
    {
     "data": {
      "image/png": "[encoded data removed]",
      "text/plain": [
       "<Figure size 640x480 with 1 Axes>"
      ]
     },
     "metadata": {},
     "output_type": "display_data"
    }
   ],
   "source": [
    "#to plot x and y we need to convert it to numpy array\n",
    "plt.scatter(X.numpy(),y.numpy())\n",
    "plt.xlabel(\"X\")\n",
    "plt.ylabel(\"y\")\n",
    "plt.show()"
   ]
  },
  {
   "cell_type": "code",
   "execution_count": 8,
   "id": "eb878d23-7898-4ae0-b923-d8bfddef9323",
   "metadata": {},
   "outputs": [
    {
     "name": "stdout",
     "output_type": "stream",
     "text": [
      "Parameter containing:\n",
      "tensor([[0.3352]], requires_grad=True) Parameter containing:\n",
      "tensor([0.6272], requires_grad=True)\n"
     ]
    }
   ],
   "source": [
    "# Create a linear model using PyTorch's nn module\n",
    "model = nn.Linear(in_features = 1, out_features = 1)\n",
    "# Print the weight and bias of the model\n",
    "print(model.weight,model.bias)"
   ]
  },
  {
   "cell_type": "code",
   "execution_count": null,
   "id": "e1b1cb03-67e2-48e1-a468-f301fa672f96",
   "metadata": {},
   "outputs": [],
   "source": []
  }
 ],
 "metadata": {
  "kernelspec": {
   "display_name": "Python 3 (ipykernel)",
   "language": "python",
   "name": "python3"
  },
  "language_info": {
   "codemirror_mode": {
    "name": "ipython",
    "version": 3
   },
   "file_extension": ".py",
   "mimetype": "text/x-python",
   "name": "python",
   "nbconvert_exporter": "python",
   "pygments_lexer": "ipython3",
   "version": "3.10.13"
  }
 },
 "nbformat": 4,
 "nbformat_minor": 5
}
