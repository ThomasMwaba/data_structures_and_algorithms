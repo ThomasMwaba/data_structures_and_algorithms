{
 "cells": [
  {
   "attachments": {},
   "cell_type": "markdown",
   "id": "c7968263-9840-4633-b50c-f74e945891b2",
   "metadata": {},
   "source": [
    "A **stack**  is an ordered collection of items where the addition of new items and the removal of existing items always takes place at the same end. \r\n",
    "This end is commonly referred to as the “top.” \r\n",
    "The end opposite the top is known as the “base\n",
    "The **base** of the stack is significant since items stored in the **stack** that are closer to the **base** represent those that have been in the stack the longest. \r\n",
    "The most recently added item is the one that is in position to be removed first.**This ordering principle is sometimes called LIFO, last-in first-out. \r\n",
    "It provides an ordering based on length of time in the collection**. \r\n",
    "Newer items are near the top, while older items are near the base.\r\n",
    "\r\n",
    "”\r\n"
   ]
  },
  {
   "cell_type": "code",
   "execution_count": 1,
   "id": "3e0d85df-2184-43a7-9982-5ef730e13e21",
   "metadata": {},
   "outputs": [],
   "source": [
    "class Stack(object):\n",
    "    def __init__(self):\n",
    "        # Initialize an empty list to store the elements of the stack\n",
    "        self.items = []\n",
    "\n",
    "    def isEmpty(self):\n",
    "        # Check if the stack is empty by checking if the list is empty\n",
    "        return self.items == []\n",
    "\n",
    "    def push(self, item):\n",
    "        # Add an item to the top of the stack (end of the list)\n",
    "        return self.items.append(item)\n",
    "\n",
    "    def pop(self):\n",
    "        # Remove and return the top item from the stack (the last item in the list)\n",
    "        return self.items.pop()\n",
    "\n",
    "    def peek(self):\n",
    "        # Return the top item from the stack without removing it\n",
    "        return self.items[len(self.items) - 1]\n",
    "\n",
    "    def size(self):\n",
    "        # Return the number of items in the stack\n",
    "        return len(self.items)\n"
   ]
  },
  {
   "cell_type": "code",
   "execution_count": 2,
   "id": "2d7febdb-f305-477e-8cba-000eea5136a6",
   "metadata": {},
   "outputs": [],
   "source": [
    "s = Stack()"
   ]
  },
  {
   "cell_type": "code",
   "execution_count": 3,
   "id": "b2f2cc2d-14b0-4c4d-bd51-6a3787f74e2e",
   "metadata": {},
   "outputs": [
    {
     "data": {
      "text/plain": [
       "True"
      ]
     },
     "execution_count": 3,
     "metadata": {},
     "output_type": "execute_result"
    }
   ],
   "source": [
    "s.isEmpty()"
   ]
  },
  {
   "cell_type": "code",
   "execution_count": 4,
   "id": "4bc09ea1-d152-470e-941c-ad1df9442ff8",
   "metadata": {},
   "outputs": [],
   "source": [
    "s.push(1)"
   ]
  },
  {
   "cell_type": "code",
   "execution_count": 5,
   "id": "0937f976-a6b4-4fdc-802f-923d545bbd8c",
   "metadata": {},
   "outputs": [],
   "source": [
    "s.push('two')"
   ]
  },
  {
   "cell_type": "code",
   "execution_count": 6,
   "id": "f7d9d066-f75f-44d2-a775-e25268a5caf5",
   "metadata": {},
   "outputs": [],
   "source": [
    "s.push(9.31)"
   ]
  },
  {
   "cell_type": "code",
   "execution_count": 7,
   "id": "3eb7537a-6064-40c1-a33b-104a1ffd5a86",
   "metadata": {},
   "outputs": [
    {
     "data": {
      "text/plain": [
       "9.31"
      ]
     },
     "execution_count": 7,
     "metadata": {},
     "output_type": "execute_result"
    }
   ],
   "source": [
    "s.peek()"
   ]
  },
  {
   "cell_type": "code",
   "execution_count": 8,
   "id": "3dcda53a-54d6-457f-a796-4aa0693a88ad",
   "metadata": {},
   "outputs": [
    {
     "name": "stdout",
     "output_type": "stream",
     "text": [
      "3\n"
     ]
    }
   ],
   "source": [
    "print(s.size())"
   ]
  },
  {
   "attachments": {},
   "cell_type": "markdown",
   "id": "29d6649a-0b8d-44f9-9553-6cf9b222856a",
   "metadata": {},
   "source": [
    "A **queue** is an ordered collection of items where the addition of new items happens at one end, called the “rear,” and the removal of existing items occurs at the other end, commonly called the “front.” \n",
    "As an element enters the queue it starts at the rear and makes its way toward the front, waiting until that time when it is the next element to be removed.\n",
    "The most recently added item in the queue must wait at the end of the collection. \r\n",
    "The item that has been in the collection the longest is at the front. \r\n",
    "This ordering principle is sometimes calle**d FIFO, first-in first-ou**t. \r\n",
    "It is also known **as “first-come first-serve**.”\r\n"
   ]
  },
  {
   "cell_type": "code",
   "execution_count": 9,
   "id": "3c93b2bc-bfa7-4354-a090-b2ee4bbf9276",
   "metadata": {},
   "outputs": [],
   "source": [
    "class Queue(object):\n",
    "    def __init__(self):\n",
    "        # Initialize an empty list to store the elements of the queue\n",
    "        self.items = []\n",
    "\n",
    "    def isEmpty(self):\n",
    "        # Check if the queue is empty by checking if the list is empty\n",
    "        return self.items == []\n",
    "\n",
    "    def enqueue(self, item):\n",
    "        # Add an item to the rear end of the queue (beginning of the list)\n",
    "        return self.items.insert(0, item)\n",
    "\n",
    "    def dequeue(self):\n",
    "        # Remove and return the front item from the queue (last item in the list)\n",
    "        return self.items.pop()\n",
    "\n",
    "    def size(self):\n",
    "        # Return the number of items in the queue\n",
    "        return len(self.items)"
   ]
  },
  {
   "cell_type": "code",
   "execution_count": 10,
   "id": "0d30f865-52ac-4025-b386-a0e82986af73",
   "metadata": {},
   "outputs": [],
   "source": [
    "q = Queue()"
   ]
  },
  {
   "cell_type": "code",
   "execution_count": 11,
   "id": "76a9554c-2b74-48f6-90ff-94b141beaa29",
   "metadata": {},
   "outputs": [
    {
     "data": {
      "text/plain": [
       "True"
      ]
     },
     "execution_count": 11,
     "metadata": {},
     "output_type": "execute_result"
    }
   ],
   "source": [
    "q.isEmpty()"
   ]
  },
  {
   "cell_type": "code",
   "execution_count": 12,
   "id": "4deafccb-5652-463d-9275-ec8573ec6ffe",
   "metadata": {},
   "outputs": [],
   "source": [
    "q.enqueue(1)"
   ]
  },
  {
   "cell_type": "code",
   "execution_count": 13,
   "id": "e1d77285-a1d5-47be-82e4-dc939529b5cc",
   "metadata": {},
   "outputs": [],
   "source": [
    "q.enqueue(2)"
   ]
  },
  {
   "cell_type": "code",
   "execution_count": 14,
   "id": "59609d8c-18b2-4167-9f5a-39684b1a9433",
   "metadata": {},
   "outputs": [
    {
     "data": {
      "text/plain": [
       "[2, 1]"
      ]
     },
     "execution_count": 14,
     "metadata": {},
     "output_type": "execute_result"
    }
   ],
   "source": [
    "q.items"
   ]
  },
  {
   "cell_type": "code",
   "execution_count": 15,
   "id": "43ad0e72-55e7-46cd-90b9-6ba24e9720af",
   "metadata": {},
   "outputs": [],
   "source": [
    "q.enqueue(3)"
   ]
  },
  {
   "cell_type": "code",
   "execution_count": 16,
   "id": "8b0b461b-6432-41c2-93da-30de276eb60d",
   "metadata": {},
   "outputs": [],
   "source": [
    "q.enqueue(4)"
   ]
  },
  {
   "cell_type": "code",
   "execution_count": 17,
   "id": "3f412474-e424-4bcf-b25a-4fe3c667969b",
   "metadata": {},
   "outputs": [],
   "source": [
    "q.enqueue(5)"
   ]
  },
  {
   "cell_type": "code",
   "execution_count": 18,
   "id": "96603a75-f27b-4b05-9a3c-ec08748b518f",
   "metadata": {},
   "outputs": [
    {
     "data": {
      "text/plain": [
       "[5, 4, 3, 2, 1]"
      ]
     },
     "execution_count": 18,
     "metadata": {},
     "output_type": "execute_result"
    }
   ],
   "source": [
    "q.items"
   ]
  },
  {
   "cell_type": "code",
   "execution_count": 19,
   "id": "e9dce258-47b0-44d4-92ef-b0d88a86c376",
   "metadata": {},
   "outputs": [
    {
     "data": {
      "text/plain": [
       "1"
      ]
     },
     "execution_count": 19,
     "metadata": {},
     "output_type": "execute_result"
    }
   ],
   "source": [
    "q.dequeue()"
   ]
  },
  {
   "cell_type": "code",
   "execution_count": 20,
   "id": "5bfe347d-a0cd-4d99-93a2-d627f03b61a0",
   "metadata": {},
   "outputs": [
    {
     "data": {
      "text/plain": [
       "[5, 4, 3, 2]"
      ]
     },
     "execution_count": 20,
     "metadata": {},
     "output_type": "execute_result"
    }
   ],
   "source": [
    "q.items"
   ]
  },
  {
   "cell_type": "markdown",
   "id": "cd72b21d-df45-4b8b-b64f-b6952eff97b4",
   "metadata": {},
   "source": [
    "A **deque**, also known as a double-ended queue, is an ordered collection of items similar to the queue. It has two ends, **a front and a rear**, and the items remain positioned in the collection. What makes a deque different is the unrestrictive nature of adding and removing items. New items can be added at either the front or the rear. Likewise, existing items can be removed from either end. In a sense, this hybrid linear structure provides all the capabilities of stacks and queues in a single data structure.\r\n",
    "\r\n",
    "It is important to note that even though the deque can assume many of the characteristics of stacks and queues, it does not require th**e LIFO and FI**FO orderings that are enforced by those data structures. It is up to you to make consistent use of the addition and removal operations.d.”"
   ]
  },
  {
   "cell_type": "code",
   "execution_count": 21,
   "id": "5527e288-c06c-4815-a581-a46298b91b30",
   "metadata": {},
   "outputs": [],
   "source": [
    "class Deque(object):\n",
    "    def __init__(self):\n",
    "        # Initialize an empty list to store the elements of the deque\n",
    "        self.items = []\n",
    "\n",
    "    def isEmpty(self):\n",
    "        # Check if the deque is empty by checking if the list is empty\n",
    "        return self.items == []\n",
    "\n",
    "    def addfront(self, item):\n",
    "        # Add an item to the front of the deque (end of the list)\n",
    "        return self.items.append(item)\n",
    "\n",
    "    def addrear(self, item):\n",
    "        # Add an item to the rear of the deque (beginning of the list)\n",
    "        return self.items.insert(0, item)\n",
    "\n",
    "    def removefront(self):\n",
    "        # Remove and return the front item from the deque (last item in the list)\n",
    "        return self.items.pop()\n",
    "\n",
    "    def removerear(self):\n",
    "        # Remove and return the rear item from the deque (first item in the list)\n",
    "        return self.items.pop(0)\n",
    "\n",
    "    def size(self):\n",
    "        # Return the number of items in the deque\n",
    "        return len(self.items)"
   ]
  },
  {
   "cell_type": "code",
   "execution_count": 22,
   "id": "107bea2c-5934-4927-ac8f-45e27bd6918f",
   "metadata": {},
   "outputs": [],
   "source": [
    "d = Deque()"
   ]
  },
  {
   "cell_type": "code",
   "execution_count": 23,
   "id": "1e51f505-ef3c-4c6f-a300-8e46c0313d0c",
   "metadata": {},
   "outputs": [
    {
     "data": {
      "text/plain": [
       "True"
      ]
     },
     "execution_count": 23,
     "metadata": {},
     "output_type": "execute_result"
    }
   ],
   "source": [
    "d.isEmpty()"
   ]
  },
  {
   "cell_type": "code",
   "execution_count": 24,
   "id": "2154e9e8-8318-4b76-a5d1-496cb0c9f29f",
   "metadata": {},
   "outputs": [],
   "source": [
    "d.addfront('hello')"
   ]
  },
  {
   "cell_type": "code",
   "execution_count": 25,
   "id": "f371015a-0a5f-4a45-b485-a904f197bf08",
   "metadata": {},
   "outputs": [],
   "source": [
    "d.addrear('world')"
   ]
  },
  {
   "cell_type": "code",
   "execution_count": 26,
   "id": "21522bf2-c9eb-4db5-81a2-9253e656b5df",
   "metadata": {},
   "outputs": [
    {
     "data": {
      "text/plain": [
       "2"
      ]
     },
     "execution_count": 26,
     "metadata": {},
     "output_type": "execute_result"
    }
   ],
   "source": [
    "d.size()"
   ]
  },
  {
   "cell_type": "code",
   "execution_count": 27,
   "id": "58e6ef83-7fc2-433e-ae45-607a6fce9d10",
   "metadata": {},
   "outputs": [
    {
     "name": "stdout",
     "output_type": "stream",
     "text": [
      "hello world\n"
     ]
    }
   ],
   "source": [
    "print(d.removefront() + ' ' + d.removerear())"
   ]
  },
  {
   "cell_type": "code",
   "execution_count": null,
   "id": "308d191f-346d-4d3e-947c-f522bbba86cf",
   "metadata": {},
   "outputs": [],
   "source": []
  }
 ],
 "metadata": {
  "kernelspec": {
   "display_name": "Python 3 (ipykernel)",
   "language": "python",
   "name": "python3"
  },
  "language_info": {
   "codemirror_mode": {
    "name": "ipython",
    "version": 3
   },
   "file_extension": ".py",
   "mimetype": "text/x-python",
   "name": "python",
   "nbconvert_exporter": "python",
   "pygments_lexer": "ipython3",
   "version": "3.10.13"
  }
 },
 "nbformat": 4,
 "nbformat_minor": 5
}
