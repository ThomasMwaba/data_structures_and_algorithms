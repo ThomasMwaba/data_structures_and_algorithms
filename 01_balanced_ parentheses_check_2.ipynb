{
 "cells": [
  {
   "cell_type": "code",
   "execution_count": 9,
   "id": "58f71401-3dc2-4a25-98a5-327a8703b565",
   "metadata": {},
   "outputs": [],
   "source": [
    "def check_paren(s):\n",
    "    # Define a dictionary to store mappings of opening and closing parentheses\n",
    "    mappings = {\")\": \"(\", \"]\": \"[\", \"}\": \"{\"}\n",
    "    \n",
    "    # Initialize an empty stack to keep track of opening parentheses\n",
    "    stack = []\n",
    "    \n",
    "    # Loop through each character in the input string\n",
    "    for paren in s:\n",
    "        # If the character is a closing parenthesis\n",
    "        if paren in mappings:\n",
    "            # Check if the stack is empty or if the top of the stack doesn't match the expected opening parenthesis\n",
    "            if not stack or stack.pop() != mappings[paren]:\n",
    "                # If conditions are not met, return False indicating unbalanced parentheses\n",
    "                return False\n",
    "        else:\n",
    "            # If the character is an opening parenthesis, simply append it to the stack\n",
    "            stack.append(paren)\n",
    "    \n",
    "    # Return True if the stack is empty, indicating balanced parentheses\n",
    "    return not stack"
   ]
  },
  {
   "cell_type": "code",
   "execution_count": 10,
   "id": "d581c36a-4c11-47c6-938a-859436a5607c",
   "metadata": {},
   "outputs": [
    {
     "data": {
      "text/plain": [
       "True"
      ]
     },
     "execution_count": 10,
     "metadata": {},
     "output_type": "execute_result"
    }
   ],
   "source": [
    "check_paren('()')"
   ]
  },
  {
   "cell_type": "code",
   "execution_count": 11,
   "id": "7a16186c-e208-4be7-bf2f-85279891c6ae",
   "metadata": {},
   "outputs": [
    {
     "data": {
      "text/plain": [
       "False"
      ]
     },
     "execution_count": 11,
     "metadata": {},
     "output_type": "execute_result"
    }
   ],
   "source": [
    "check_paren('(}')"
   ]
  },
  {
   "cell_type": "code",
   "execution_count": null,
   "id": "c7374234-7aa8-4c95-b3ea-70ca7b744f07",
   "metadata": {},
   "outputs": [],
   "source": [
    "check_paren('()(')"
   ]
  }
 ],
 "metadata": {
  "kernelspec": {
   "display_name": "Python 3 (ipykernel)",
   "language": "python",
   "name": "python3"
  },
  "language_info": {
   "codemirror_mode": {
    "name": "ipython",
    "version": 3
   },
   "file_extension": ".py",
   "mimetype": "text/x-python",
   "name": "python",
   "nbconvert_exporter": "python",
   "pygments_lexer": "ipython3",
   "version": "3.10.13"
  }
 },
 "nbformat": 4,
 "nbformat_minor": 5
}
