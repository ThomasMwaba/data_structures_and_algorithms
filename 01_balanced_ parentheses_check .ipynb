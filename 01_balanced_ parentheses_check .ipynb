{
 "cells": [
  {
   "cell_type": "markdown",
   "metadata": {},
   "source": [
    "# Balanced Parentheses Check \n",
    "\n",
    "## Problem Statement\n",
    "\n",
    "Given a string of opening and closing parentheses, check whether it’s balanced. We have 3 types of parentheses: round brackets: (), square brackets: [], and curly brackets: {}. Assume that the string doesn’t contain any other character than these, no spaces words or numbers. As a reminder, balanced parentheses require every opening parenthesis to be closed in the reverse order opened. For example ‘([])’ is balanced but ‘([)]’ is not. \n",
    "\n",
    "\n",
    "You can assume the input string has no spaces.\n",
    "\n",
    "## Solution\n",
    "\n",
    "Fill out your solution below:"
   ]
  },
  {
   "cell_type": "code",
   "execution_count": 5,
   "metadata": {},
   "outputs": [],
   "source": [
    "def balance_check(s):\n",
    "    # Check if the length of the input string is odd. If so, it's unbalanced.\n",
    "    if len(s) % 2 != 0:\n",
    "        return False\n",
    "    \n",
    "    # Define opening characters and valid matching pairs.\n",
    "    openings = set('{[(')\n",
    "    matches = set([('{', '}'), ('[', ']'), ('(', ')')])\n",
    "    \n",
    "    # Use a stack to keep track of opening parentheses.\n",
    "    stack = []\n",
    "    \n",
    "    # Iterate through each character in the input string.\n",
    "    for paren in s:\n",
    "        if paren in openings:\n",
    "            # If it's an opening parenthesis, add it onto the stack.\n",
    "            stack.append(paren)\n",
    "        else:\n",
    "            # Check that there are parentheses in Stack\n",
    "            if len(stack) == 0:\n",
    "                return False\n",
    "            # Check the last open parenthesis\n",
    "            last_open = stack.pop()\n",
    "            # Check if it has a closing match\n",
    "            if (last_open, paren) not in matches:\n",
    "                return False\n",
    "    \n",
    "    # After iterating through the string, if the stack is empty, it's balanced.\n",
    "    return len(stack) == 0"
   ]
  },
  {
   "cell_type": "code",
   "execution_count": 6,
   "metadata": {},
   "outputs": [],
   "source": [
    "openings = set('{[(')"
   ]
  },
  {
   "cell_type": "code",
   "execution_count": 7,
   "metadata": {},
   "outputs": [
    {
     "data": {
      "text/plain": [
       "{'(', '[', '{'}"
      ]
     },
     "execution_count": 7,
     "metadata": {},
     "output_type": "execute_result"
    }
   ],
   "source": [
    "openings"
   ]
  },
  {
   "cell_type": "code",
   "execution_count": 8,
   "metadata": {},
   "outputs": [],
   "source": [
    "matches = set([('{','}'),('[',']'),('(',')')])"
   ]
  },
  {
   "cell_type": "code",
   "execution_count": 9,
   "metadata": {},
   "outputs": [
    {
     "data": {
      "text/plain": [
       "{('(', ')'), ('[', ']'), ('{', '}')}"
      ]
     },
     "execution_count": 9,
     "metadata": {},
     "output_type": "execute_result"
    }
   ],
   "source": [
    "matches"
   ]
  },
  {
   "cell_type": "code",
   "execution_count": 11,
   "metadata": {},
   "outputs": [
    {
     "data": {
      "text/plain": [
       "True"
      ]
     },
     "execution_count": 11,
     "metadata": {},
     "output_type": "execute_result"
    }
   ],
   "source": [
    "balance_check('[]')"
   ]
  },
  {
   "cell_type": "markdown",
   "metadata": {},
   "source": [
    "We start with an empty stack.\r\n",
    "\r\n",
    "The firsitemer in s is '['. Since it's an opening parenthesis, we add it onto the stack.\r\n",
    "\r\n",
    "The next character in s is ']'. Now, we check if there's anything in the stack. Since there is,carry once\n",
    "d.\r\n",
    "\r\n",
    "We pop the last open parenthesis from the stack, which is '['.\r\n",
    "\r\n",
    "We check if the a ('[', a correct a valid match. It is, so we co\n",
    "tinue.\r\n",
    "\r\n",
    "Since we've reached the end of the string and the stack is empty, we retshowing ndicating that the string '[]' is \n",
    "alanced.\r\n",
    "\r\n",
    "In simple terms, the function checks if the opening and closing parentheses in the string match up correctly. In this case, '[]', they do, so the function reshowing, indicating that thbalancedg is balance"
   ]
  },
  {
   "cell_type": "code",
   "execution_count": 12,
   "metadata": {},
   "outputs": [
    {
     "data": {
      "text/plain": [
       "True"
      ]
     },
     "execution_count": 12,
     "metadata": {},
     "output_type": "execute_result"
    }
   ],
   "source": [
    "balance_check('[](){([[[]]])}')"
   ]
  },
  {
   "cell_type": "code",
   "execution_count": 13,
   "metadata": {},
   "outputs": [
    {
     "data": {
      "text/plain": [
       "False"
      ]
     },
     "execution_count": 13,
     "metadata": {},
     "output_type": "execute_result"
    }
   ],
   "source": [
    "balance_check('()(){]}')"
   ]
  },
  {
   "cell_type": "markdown",
   "metadata": {},
   "source": [
    "We start with an empty stack.\n",
    "The first item in the input string '(' is an opening parenthesis, so we add it onto the stack.\n",
    "\n",
    "3. The next item '(' is also an opening parenthesis, so we add it onto the stack again.\n",
    "\n",
    "4. The next item ')' is a closing parenthesis. We check if there's anything in the stack. Since there is, we carry.\n",
    "\n",
    "5. We pop the last open parenthesis from the stack, which is '('.\n",
    "\n",
    "6. We check if the pair ('(', ')') is a correct match. It is, so we continue.\n",
    "\n",
    "7. The next item '{' is an opening parenthesis, so we add it onto the stack.\n",
    "\n",
    "8. The next item ']' is a closing parenthesis. We check if there's anything in the stack. Since there is, we carry on.\n",
    "\n",
    "9. We pop the last open parenthesis from the stack, which is '{'.\n",
    "\n",
    "10. We check if the pair ('{', ']') is a correct match. It's not, so we return False, showing that the string '()(){]}' is unbalanced because the closing parenthesis ']' does not match the corresponding opening parenthesis '{'."
   ]
  },
  {
   "cell_type": "markdown",
   "metadata": {},
   "source": [
    "# Test Your Solution"
   ]
  },
  {
   "cell_type": "code",
   "execution_count": null,
   "metadata": {},
   "outputs": [],
   "source": [
    "\"\"\"\n",
    "RUN THIS CELL TO TEST YOUR SOLUTION\n",
    "\"\"\"\n",
    "from nose.tools import assert_equal\n",
    "\n",
    "class TestBalanceCheck(object):\n",
    "    \n",
    "    def test(self,sol):\n",
    "        assert_equal(sol('[](){([[[]]])}('),False)\n",
    "        assert_equal(sol('[{{{(())}}}]((()))'),True)\n",
    "        assert_equal(sol('[[[]])]'),False)\n",
    "        print('ALL TEST CASES PASSED')\n",
    "        \n",
    "# Run Tests\n",
    "\n",
    "t = TestBalanceCheck()\n",
    "t.test(balance_check)"
   ]
  },
  {
   "cell_type": "markdown",
   "metadata": {},
   "source": [
    "## Good Job!"
   ]
  }
 ],
 "metadata": {
  "kernelspec": {
   "display_name": "Python 3 (ipykernel)",
   "language": "python",
   "name": "python3"
  },
  "language_info": {
   "codemirror_mode": {
    "name": "ipython",
    "version": 3
   },
   "file_extension": ".py",
   "mimetype": "text/x-python",
   "name": "python",
   "nbconvert_exporter": "python",
   "pygments_lexer": "ipython3",
   "version": "3.10.13"
  }
 },
 "nbformat": 4,
 "nbformat_minor": 4
}
